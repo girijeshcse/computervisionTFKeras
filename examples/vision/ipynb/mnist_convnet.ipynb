{
  "nbformat": 4,
  "nbformat_minor": 0,
  "metadata": {
    "colab": {
      "name": "mnist_convnet",
      "provenance": [],
      "collapsed_sections": [],
      "toc_visible": true
    },
    "kernelspec": {
      "display_name": "Python 3",
      "language": "python",
      "name": "python3"
    },
    "language_info": {
      "codemirror_mode": {
        "name": "ipython",
        "version": 3
      },
      "file_extension": ".py",
      "mimetype": "text/x-python",
      "name": "python",
      "nbconvert_exporter": "python",
      "pygments_lexer": "ipython3",
      "version": "3.7.0"
    },
    "accelerator": "GPU"
  },
  "cells": [
    {
      "cell_type": "markdown",
      "metadata": {
        "id": "HAoGDQi7ZL1a"
      },
      "source": [
        "# Simple MNIST convnet\n",
        "\n",
        "**Author:** [fchollet](https://twitter.com/fchollet)<br>\n",
        "**Date created:** 2015/06/19<br>\n",
        "**Last modified:** 2020/04/21<br>\n",
        "**Description:** A simple convnet that achieves ~99% test accuracy on MNIST."
      ]
    },
    {
      "cell_type": "markdown",
      "metadata": {
        "id": "eEfzIbHLZL1e"
      },
      "source": [
        "## Setup"
      ]
    },
    {
      "cell_type": "code",
      "metadata": {
        "id": "mMs2QvK9ZL1f"
      },
      "source": [
        "import numpy as np\n",
        "from tensorflow import keras\n",
        "from tensorflow.keras import layers"
      ],
      "execution_count": 1,
      "outputs": []
    },
    {
      "cell_type": "markdown",
      "metadata": {
        "id": "qreWHrxXZL1h"
      },
      "source": [
        "## Prepare the data"
      ]
    },
    {
      "cell_type": "code",
      "metadata": {
        "id": "58DwQYHIZL1i",
        "outputId": "440cb987-df4c-4f59-868b-94db8b13b73c",
        "colab": {
          "base_uri": "https://localhost:8080/"
        }
      },
      "source": [
        "# Model / data parameters\n",
        "num_classes = 10\n",
        "input_shape = (28, 28, 1)\n",
        "\n",
        "# the data, split between train and test sets\n",
        "(x_train, y_train), (x_test, y_test) = keras.datasets.mnist.load_data()\n",
        "\n",
        "# Scale images to the [0, 1] range\n",
        "x_train = x_train.astype(\"float32\") / 255\n",
        "x_test = x_test.astype(\"float32\") / 255\n",
        "# Make sure images have shape (28, 28, 1)\n",
        "x_train = np.expand_dims(x_train, -1)\n",
        "x_test = np.expand_dims(x_test, -1)\n",
        "print(\"x_train shape:\", x_train.shape)\n",
        "print(x_train.shape[0], \"train samples\")\n",
        "print(x_test.shape[0], \"test samples\")\n",
        "\n",
        "\n",
        "# convert class vectors to binary class matrices\n",
        "y_train = keras.utils.to_categorical(y_train, num_classes)\n",
        "y_test = keras.utils.to_categorical(y_test, num_classes)"
      ],
      "execution_count": 2,
      "outputs": [
        {
          "output_type": "stream",
          "text": [
            "Downloading data from https://storage.googleapis.com/tensorflow/tf-keras-datasets/mnist.npz\n",
            "11493376/11490434 [==============================] - 0s 0us/step\n",
            "11501568/11490434 [==============================] - 0s 0us/step\n",
            "x_train shape: (60000, 28, 28, 1)\n",
            "60000 train samples\n",
            "10000 test samples\n"
          ],
          "name": "stdout"
        }
      ]
    },
    {
      "cell_type": "markdown",
      "metadata": {
        "id": "I6XWIerAZL1j"
      },
      "source": [
        "## Build the model"
      ]
    },
    {
      "cell_type": "code",
      "metadata": {
        "id": "l9CUh-lqZL1j",
        "outputId": "e88080e4-db63-4ae7-9a9f-34ef85a948f7",
        "colab": {
          "base_uri": "https://localhost:8080/"
        }
      },
      "source": [
        "model = keras.Sequential(\n",
        "    [\n",
        "        keras.Input(shape=input_shape),\n",
        "        layers.Conv2D(32, kernel_size=(3, 3), activation=\"relu\"),\n",
        "        layers.MaxPooling2D(pool_size=(2, 2)),\n",
        "        layers.Conv2D(64, kernel_size=(3, 3), activation=\"relu\"),\n",
        "        layers.MaxPooling2D(pool_size=(2, 2)),\n",
        "        layers.Flatten(),\n",
        "        layers.Dropout(0.5),\n",
        "        layers.Dense(num_classes, activation=\"softmax\"),\n",
        "    ]\n",
        ")\n",
        "\n",
        "model.summary()"
      ],
      "execution_count": 3,
      "outputs": [
        {
          "output_type": "stream",
          "text": [
            "Model: \"sequential\"\n",
            "_________________________________________________________________\n",
            "Layer (type)                 Output Shape              Param #   \n",
            "=================================================================\n",
            "conv2d (Conv2D)              (None, 26, 26, 32)        320       \n",
            "_________________________________________________________________\n",
            "max_pooling2d (MaxPooling2D) (None, 13, 13, 32)        0         \n",
            "_________________________________________________________________\n",
            "conv2d_1 (Conv2D)            (None, 11, 11, 64)        18496     \n",
            "_________________________________________________________________\n",
            "max_pooling2d_1 (MaxPooling2 (None, 5, 5, 64)          0         \n",
            "_________________________________________________________________\n",
            "flatten (Flatten)            (None, 1600)              0         \n",
            "_________________________________________________________________\n",
            "dropout (Dropout)            (None, 1600)              0         \n",
            "_________________________________________________________________\n",
            "dense (Dense)                (None, 10)                16010     \n",
            "=================================================================\n",
            "Total params: 34,826\n",
            "Trainable params: 34,826\n",
            "Non-trainable params: 0\n",
            "_________________________________________________________________\n"
          ],
          "name": "stdout"
        }
      ]
    },
    {
      "cell_type": "markdown",
      "metadata": {
        "id": "Zr2Lz12mZL1l"
      },
      "source": [
        "## Train the model"
      ]
    },
    {
      "cell_type": "code",
      "metadata": {
        "id": "tcNG3FNnZL1m",
        "outputId": "ab5b11f3-b163-4bc1-a3c7-e8e3d32dd14c",
        "colab": {
          "base_uri": "https://localhost:8080/"
        }
      },
      "source": [
        "batch_size = 128\n",
        "epochs = 15\n",
        "\n",
        "model.compile(loss=\"categorical_crossentropy\", optimizer=\"adam\", metrics=[\"accuracy\"])\n",
        "\n",
        "model.fit(x_train, y_train, batch_size=batch_size, epochs=epochs, validation_split=0.1)"
      ],
      "execution_count": 4,
      "outputs": [
        {
          "output_type": "stream",
          "text": [
            "Epoch 1/15\n",
            "422/422 [==============================] - 33s 9ms/step - loss: 0.3757 - accuracy: 0.8872 - val_loss: 0.0913 - val_accuracy: 0.9743\n",
            "Epoch 2/15\n",
            "422/422 [==============================] - 4s 8ms/step - loss: 0.1196 - accuracy: 0.9634 - val_loss: 0.0631 - val_accuracy: 0.9818\n",
            "Epoch 3/15\n",
            "422/422 [==============================] - 4s 8ms/step - loss: 0.0894 - accuracy: 0.9721 - val_loss: 0.0498 - val_accuracy: 0.9860\n",
            "Epoch 4/15\n",
            "422/422 [==============================] - 3s 8ms/step - loss: 0.0747 - accuracy: 0.9771 - val_loss: 0.0446 - val_accuracy: 0.9882\n",
            "Epoch 5/15\n",
            "422/422 [==============================] - 4s 8ms/step - loss: 0.0657 - accuracy: 0.9796 - val_loss: 0.0374 - val_accuracy: 0.9897\n",
            "Epoch 6/15\n",
            "422/422 [==============================] - 4s 9ms/step - loss: 0.0599 - accuracy: 0.9815 - val_loss: 0.0369 - val_accuracy: 0.9902\n",
            "Epoch 7/15\n",
            "422/422 [==============================] - 3s 8ms/step - loss: 0.0549 - accuracy: 0.9827 - val_loss: 0.0352 - val_accuracy: 0.9898\n",
            "Epoch 8/15\n",
            "422/422 [==============================] - 3s 8ms/step - loss: 0.0493 - accuracy: 0.9839 - val_loss: 0.0325 - val_accuracy: 0.9912\n",
            "Epoch 9/15\n",
            "422/422 [==============================] - 3s 8ms/step - loss: 0.0471 - accuracy: 0.9851 - val_loss: 0.0297 - val_accuracy: 0.9928\n",
            "Epoch 10/15\n",
            "422/422 [==============================] - 4s 9ms/step - loss: 0.0455 - accuracy: 0.9858 - val_loss: 0.0303 - val_accuracy: 0.9927\n",
            "Epoch 11/15\n",
            "422/422 [==============================] - 3s 8ms/step - loss: 0.0406 - accuracy: 0.9873 - val_loss: 0.0286 - val_accuracy: 0.9923\n",
            "Epoch 12/15\n",
            "422/422 [==============================] - 3s 8ms/step - loss: 0.0402 - accuracy: 0.9875 - val_loss: 0.0302 - val_accuracy: 0.9917\n",
            "Epoch 13/15\n",
            "422/422 [==============================] - 4s 9ms/step - loss: 0.0381 - accuracy: 0.9883 - val_loss: 0.0288 - val_accuracy: 0.9918\n",
            "Epoch 14/15\n",
            "422/422 [==============================] - 4s 9ms/step - loss: 0.0351 - accuracy: 0.9879 - val_loss: 0.0302 - val_accuracy: 0.9918\n",
            "Epoch 15/15\n",
            "422/422 [==============================] - 4s 9ms/step - loss: 0.0335 - accuracy: 0.9891 - val_loss: 0.0291 - val_accuracy: 0.9918\n"
          ],
          "name": "stdout"
        },
        {
          "output_type": "execute_result",
          "data": {
            "text/plain": [
              "<keras.callbacks.History at 0x7fdf701d1810>"
            ]
          },
          "metadata": {
            "tags": []
          },
          "execution_count": 4
        }
      ]
    },
    {
      "cell_type": "markdown",
      "metadata": {
        "id": "dWbD2vQ8ZL1o"
      },
      "source": [
        "## Evaluate the trained model"
      ]
    },
    {
      "cell_type": "code",
      "metadata": {
        "id": "9vHm4peMZL1o",
        "outputId": "efa1917a-4389-4e34-86b8-ea841596dce7",
        "colab": {
          "base_uri": "https://localhost:8080/"
        }
      },
      "source": [
        "score = model.evaluate(x_test, y_test, verbose=0)\n",
        "print(\"Test loss:\", score[0])\n",
        "print(\"Test accuracy:\", score[1])"
      ],
      "execution_count": 5,
      "outputs": [
        {
          "output_type": "stream",
          "text": [
            "Test loss: 0.02358224056661129\n",
            "Test accuracy: 0.9919000267982483\n"
          ],
          "name": "stdout"
        }
      ]
    },
    {
      "cell_type": "code",
      "metadata": {
        "id": "06ixeSYlS2Bj"
      },
      "source": [
        ""
      ],
      "execution_count": null,
      "outputs": []
    }
  ]
}