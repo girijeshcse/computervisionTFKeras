{
  "nbformat": 4,
  "nbformat_minor": 0,
  "metadata": {
    "colab": {
      "name": "first_cnn.ipynb",
      "provenance": [],
      "collapsed_sections": [],
      "toc_visible": true,
      "include_colab_link": true
    },
    "kernelspec": {
      "name": "python3",
      "display_name": "Python 3"
    },
    "language_info": {
      "name": "python"
    },
    "accelerator": "GPU"
  },
  "cells": [
    {
      "cell_type": "markdown",
      "metadata": {
        "id": "view-in-github",
        "colab_type": "text"
      },
      "source": [
        "<a href=\"https://colab.research.google.com/github/girijeshcse/computervisionTFKeras/blob/main/first_cnn.ipynb\" target=\"_parent\"><img src=\"https://colab.research.google.com/assets/colab-badge.svg\" alt=\"Open In Colab\"/></a>"
      ]
    },
    {
      "cell_type": "markdown",
      "metadata": {
        "id": "NFhAzQB3aNMa"
      },
      "source": [
        "### Download the code zip file"
      ]
    },
    {
      "cell_type": "code",
      "metadata": {
        "id": "7y0LG1EuaRlB",
        "outputId": "0b9f4094-5e19-43cd-9163-2306e80a427e",
        "colab": {
          "base_uri": "https://localhost:8080/"
        }
      },
      "source": [
        "!wget https://pyimagesearch-code-downloads.s3-us-west-2.amazonaws.com/first-cnn/first-cnn.zip\n",
        "!unzip -qq first-cnn.zip\n",
        "%cd first-cnn\n",
        "!wget https://pis-datasets.s3.us-east-2.amazonaws.com/animals.zip\n",
        "!unzip -qq animals.zip"
      ],
      "execution_count": 2,
      "outputs": [
        {
          "output_type": "stream",
          "text": [
            "--2021-08-06 03:43:45--  https://pyimagesearch-code-downloads.s3-us-west-2.amazonaws.com/first-cnn/first-cnn.zip\n",
            "Resolving pyimagesearch-code-downloads.s3-us-west-2.amazonaws.com (pyimagesearch-code-downloads.s3-us-west-2.amazonaws.com)... 52.218.197.33\n",
            "Connecting to pyimagesearch-code-downloads.s3-us-west-2.amazonaws.com (pyimagesearch-code-downloads.s3-us-west-2.amazonaws.com)|52.218.197.33|:443... connected.\n",
            "HTTP request sent, awaiting response... 200 OK\n",
            "Length: 10378 (10K) [binary/octet-stream]\n",
            "Saving to: ‘first-cnn.zip’\n",
            "\n",
            "first-cnn.zip       100%[===================>]  10.13K  --.-KB/s    in 0s      \n",
            "\n",
            "2021-08-06 03:43:45 (194 MB/s) - ‘first-cnn.zip’ saved [10378/10378]\n",
            "\n",
            "/content/first-cnn\n",
            "--2021-08-06 03:43:45--  https://pis-datasets.s3.us-east-2.amazonaws.com/animals.zip\n",
            "Resolving pis-datasets.s3.us-east-2.amazonaws.com (pis-datasets.s3.us-east-2.amazonaws.com)... 52.219.84.64\n",
            "Connecting to pis-datasets.s3.us-east-2.amazonaws.com (pis-datasets.s3.us-east-2.amazonaws.com)|52.219.84.64|:443... connected.\n",
            "HTTP request sent, awaiting response... 200 OK\n",
            "Length: 196780870 (188M) [application/zip]\n",
            "Saving to: ‘animals.zip’\n",
            "\n",
            "animals.zip         100%[===================>] 187.66M  47.1MB/s    in 4.4s    \n",
            "\n",
            "2021-08-06 03:43:50 (42.3 MB/s) - ‘animals.zip’ saved [196780870/196780870]\n",
            "\n"
          ],
          "name": "stdout"
        }
      ]
    },
    {
      "cell_type": "markdown",
      "metadata": {
        "id": "_SgTVT3HagGZ"
      },
      "source": [
        "## Blog Post Code"
      ]
    },
    {
      "cell_type": "markdown",
      "metadata": {
        "id": "wcrOk6pURp50"
      },
      "source": [
        "### Import Packages"
      ]
    },
    {
      "cell_type": "code",
      "metadata": {
        "id": "-u4dX25-Z-pO"
      },
      "source": [
        "# import the necessary packages\n",
        "from sklearn.preprocessing import LabelBinarizer\n",
        "from sklearn.model_selection import train_test_split\n",
        "from sklearn.metrics import classification_report\n",
        "from pyimagesearch.preprocessing import ImageToArrayPreprocessor\n",
        "from pyimagesearch.preprocessing import SimplePreprocessor\n",
        "from pyimagesearch.datasets import SimpleDatasetLoader\n",
        "from tensorflow.keras.models import Sequential\n",
        "from tensorflow.keras.layers import Conv2D\n",
        "from tensorflow.keras.layers import Activation\n",
        "from tensorflow.keras.layers import Flatten\n",
        "from tensorflow.keras.layers import Dense\n",
        "from tensorflow.keras import backend as K\n",
        "from tensorflow.keras.optimizers import SGD\n",
        "from tensorflow.keras.datasets import cifar10\n",
        "from imutils import paths\n",
        "import matplotlib.pyplot as plt\n",
        "import numpy as np"
      ],
      "execution_count": 3,
      "outputs": []
    },
    {
      "cell_type": "markdown",
      "metadata": {
        "id": "hAfsGdJ9eCja"
      },
      "source": [
        "### Implementing ShallowNet \n"
      ]
    },
    {
      "cell_type": "code",
      "metadata": {
        "id": "DwMuFmXPd1Aa"
      },
      "source": [
        "class ShallowNet:\n",
        "\t@staticmethod\n",
        "\tdef build(width, height, depth, classes):\n",
        "\t\t# initialize the model along with the input shape to be\n",
        "\t\t# \"channels last\"\n",
        "\t\tmodel = Sequential()\n",
        "\t\tinputShape = (height, width, depth)\n",
        "\n",
        "\t\t# if we are using \"channels first\", update the input shape\n",
        "\t\tif K.image_data_format() == \"channels_first\":\n",
        "\t\t\tinputShape = (depth, height, width)\n",
        "\n",
        "\t\t# define the first (and only) CONV => RELU layer\n",
        "\t\tmodel.add(Conv2D(32, (3, 3), padding=\"same\",\n",
        "\t\t\tinput_shape=inputShape))\n",
        "\t\tmodel.add(Activation(\"relu\"))\n",
        "\n",
        "\t\t# softmax classifier\n",
        "\t\tmodel.add(Flatten())\n",
        "\t\tmodel.add(Dense(classes))\n",
        "\t\tmodel.add(Activation(\"softmax\"))\n",
        "\n",
        "\t\t# return the constructed network architecture\n",
        "\t\treturn model"
      ],
      "execution_count": 4,
      "outputs": []
    },
    {
      "cell_type": "markdown",
      "metadata": {
        "id": "FdfY-xw3fToh"
      },
      "source": [
        "### ShallowNet on Animals"
      ]
    },
    {
      "cell_type": "code",
      "metadata": {
        "id": "_gTqebWnfKmh",
        "outputId": "6adea2d0-be16-4732-cfac-1e942ca47c2d",
        "colab": {
          "base_uri": "https://localhost:8080/"
        }
      },
      "source": [
        "# grab the list of images that we'll be describing\n",
        "print(\"[INFO] loading images...\")\n",
        "imagePaths = list(paths.list_images(\"animals\"))"
      ],
      "execution_count": 5,
      "outputs": [
        {
          "output_type": "stream",
          "text": [
            "[INFO] loading images...\n"
          ],
          "name": "stdout"
        }
      ]
    },
    {
      "cell_type": "code",
      "metadata": {
        "id": "RZsyVbi9h-zw",
        "outputId": "e87baa0d-e8c3-4a50-eecc-2d4740e4e455",
        "colab": {
          "base_uri": "https://localhost:8080/"
        }
      },
      "source": [
        "# initialize the image preprocessors\n",
        "sp = SimplePreprocessor(32, 32)\n",
        "iap = ImageToArrayPreprocessor()\n",
        "\n",
        "# load the dataset from disk then scale the raw pixel intensities\n",
        "# to the range [0, 1]\n",
        "sdl = SimpleDatasetLoader(preprocessors=[sp, iap])\n",
        "(data, labels) = sdl.load(imagePaths, verbose=500)\n",
        "data = data.astype(\"float\") / 255.0"
      ],
      "execution_count": 6,
      "outputs": [
        {
          "output_type": "stream",
          "text": [
            "[INFO] processed 500/3000\n",
            "[INFO] processed 1000/3000\n",
            "[INFO] processed 1500/3000\n",
            "[INFO] processed 2000/3000\n",
            "[INFO] processed 2500/3000\n",
            "[INFO] processed 3000/3000\n"
          ],
          "name": "stdout"
        }
      ]
    },
    {
      "cell_type": "code",
      "metadata": {
        "id": "l9OTeOy0iIDf"
      },
      "source": [
        "# partition the data into training and testing splits using 75% of\n",
        "# the data for training and the remaining 25% for testing\n",
        "(trainX, testX, trainY, testY) = train_test_split(data, labels,\n",
        "\ttest_size=0.25, random_state=42)\n",
        "\n",
        "# convert the labels from integers to vectors\n",
        "trainY = LabelBinarizer().fit_transform(trainY)\n",
        "testY = LabelBinarizer().fit_transform(testY)"
      ],
      "execution_count": 7,
      "outputs": []
    },
    {
      "cell_type": "code",
      "metadata": {
        "id": "gQBCHnW5iQrA",
        "outputId": "e99b485a-76c9-4a05-f20e-ea96997719d0",
        "colab": {
          "base_uri": "https://localhost:8080/"
        }
      },
      "source": [
        "# initialize the optimizer and model\n",
        "print(\"[INFO] compiling model...\")\n",
        "opt = SGD(learning_rate=0.005)\n",
        "model = ShallowNet.build(width=32, height=32, depth=3, classes=3)\n",
        "model.compile(loss=\"categorical_crossentropy\", optimizer=opt,\n",
        "\tmetrics=[\"accuracy\"])\n",
        "\n",
        "# train the network\n",
        "print(\"[INFO] training network...\")\n",
        "H = model.fit(trainX, trainY, validation_data=(testX, testY),\n",
        "\tbatch_size=32, epochs=100, verbose=1)"
      ],
      "execution_count": 8,
      "outputs": [
        {
          "output_type": "stream",
          "text": [
            "[INFO] compiling model...\n"
          ],
          "name": "stdout"
        },
        {
          "output_type": "stream",
          "text": [
            "/usr/local/lib/python3.7/dist-packages/tensorflow/python/keras/optimizer_v2/optimizer_v2.py:375: UserWarning: The `lr` argument is deprecated, use `learning_rate` instead.\n",
            "  \"The `lr` argument is deprecated, use `learning_rate` instead.\")\n"
          ],
          "name": "stderr"
        },
        {
          "output_type": "stream",
          "text": [
            "[INFO] training network...\n",
            "Epoch 1/100\n",
            "71/71 [==============================] - 32s 8ms/step - loss: 1.0181 - accuracy: 0.4587 - val_loss: 0.9525 - val_accuracy: 0.5133\n",
            "Epoch 2/100\n",
            "71/71 [==============================] - 0s 4ms/step - loss: 0.9227 - accuracy: 0.5320 - val_loss: 1.0068 - val_accuracy: 0.4907\n",
            "Epoch 3/100\n",
            "71/71 [==============================] - 0s 4ms/step - loss: 0.8918 - accuracy: 0.5427 - val_loss: 0.9554 - val_accuracy: 0.5200\n",
            "Epoch 4/100\n",
            "71/71 [==============================] - 0s 4ms/step - loss: 0.8772 - accuracy: 0.5516 - val_loss: 0.9404 - val_accuracy: 0.5200\n",
            "Epoch 5/100\n",
            "71/71 [==============================] - 0s 4ms/step - loss: 0.8493 - accuracy: 0.5649 - val_loss: 0.8982 - val_accuracy: 0.5253\n",
            "Epoch 6/100\n",
            "71/71 [==============================] - 0s 4ms/step - loss: 0.8333 - accuracy: 0.5836 - val_loss: 1.0338 - val_accuracy: 0.4893\n",
            "Epoch 7/100\n",
            "71/71 [==============================] - 0s 4ms/step - loss: 0.8284 - accuracy: 0.5880 - val_loss: 0.8934 - val_accuracy: 0.5267\n",
            "Epoch 8/100\n",
            "71/71 [==============================] - 0s 4ms/step - loss: 0.8085 - accuracy: 0.6044 - val_loss: 0.8369 - val_accuracy: 0.5987\n",
            "Epoch 9/100\n",
            "71/71 [==============================] - 0s 4ms/step - loss: 0.8021 - accuracy: 0.6084 - val_loss: 0.8518 - val_accuracy: 0.5907\n",
            "Epoch 10/100\n",
            "71/71 [==============================] - 0s 4ms/step - loss: 0.7986 - accuracy: 0.6231 - val_loss: 0.8066 - val_accuracy: 0.6093\n",
            "Epoch 11/100\n",
            "71/71 [==============================] - 0s 4ms/step - loss: 0.7868 - accuracy: 0.6307 - val_loss: 0.8518 - val_accuracy: 0.5680\n",
            "Epoch 12/100\n",
            "71/71 [==============================] - 0s 4ms/step - loss: 0.7817 - accuracy: 0.6347 - val_loss: 0.8172 - val_accuracy: 0.6053\n",
            "Epoch 13/100\n",
            "71/71 [==============================] - 0s 4ms/step - loss: 0.7715 - accuracy: 0.6356 - val_loss: 0.8581 - val_accuracy: 0.5587\n",
            "Epoch 14/100\n",
            "71/71 [==============================] - 0s 4ms/step - loss: 0.7668 - accuracy: 0.6436 - val_loss: 0.8838 - val_accuracy: 0.5493\n",
            "Epoch 15/100\n",
            "71/71 [==============================] - 0s 4ms/step - loss: 0.7598 - accuracy: 0.6489 - val_loss: 0.7879 - val_accuracy: 0.6093\n",
            "Epoch 16/100\n",
            "71/71 [==============================] - 0s 4ms/step - loss: 0.7496 - accuracy: 0.6498 - val_loss: 0.7892 - val_accuracy: 0.6240\n",
            "Epoch 17/100\n",
            "71/71 [==============================] - 0s 4ms/step - loss: 0.7455 - accuracy: 0.6622 - val_loss: 0.9276 - val_accuracy: 0.5413\n",
            "Epoch 18/100\n",
            "71/71 [==============================] - 0s 4ms/step - loss: 0.7427 - accuracy: 0.6578 - val_loss: 0.8700 - val_accuracy: 0.5467\n",
            "Epoch 19/100\n",
            "71/71 [==============================] - 0s 4ms/step - loss: 0.7332 - accuracy: 0.6738 - val_loss: 0.9929 - val_accuracy: 0.5267\n",
            "Epoch 20/100\n",
            "71/71 [==============================] - 0s 4ms/step - loss: 0.7281 - accuracy: 0.6751 - val_loss: 1.0990 - val_accuracy: 0.4960\n",
            "Epoch 21/100\n",
            "71/71 [==============================] - 0s 4ms/step - loss: 0.7257 - accuracy: 0.6724 - val_loss: 0.7705 - val_accuracy: 0.6173\n",
            "Epoch 22/100\n",
            "71/71 [==============================] - 0s 4ms/step - loss: 0.7086 - accuracy: 0.6800 - val_loss: 0.7636 - val_accuracy: 0.6373\n",
            "Epoch 23/100\n",
            "71/71 [==============================] - 0s 4ms/step - loss: 0.7015 - accuracy: 0.6911 - val_loss: 0.7611 - val_accuracy: 0.6240\n",
            "Epoch 24/100\n",
            "71/71 [==============================] - 0s 4ms/step - loss: 0.6967 - accuracy: 0.6809 - val_loss: 0.7678 - val_accuracy: 0.6240\n",
            "Epoch 25/100\n",
            "71/71 [==============================] - 0s 4ms/step - loss: 0.6923 - accuracy: 0.6916 - val_loss: 0.7708 - val_accuracy: 0.6173\n",
            "Epoch 26/100\n",
            "71/71 [==============================] - 0s 4ms/step - loss: 0.6820 - accuracy: 0.6969 - val_loss: 0.7663 - val_accuracy: 0.6173\n",
            "Epoch 27/100\n",
            "71/71 [==============================] - 0s 4ms/step - loss: 0.6813 - accuracy: 0.6978 - val_loss: 0.7481 - val_accuracy: 0.6293\n",
            "Epoch 28/100\n",
            "71/71 [==============================] - 0s 4ms/step - loss: 0.6745 - accuracy: 0.7053 - val_loss: 0.8190 - val_accuracy: 0.6013\n",
            "Epoch 29/100\n",
            "71/71 [==============================] - 0s 4ms/step - loss: 0.6684 - accuracy: 0.6951 - val_loss: 1.1068 - val_accuracy: 0.4827\n",
            "Epoch 30/100\n",
            "71/71 [==============================] - 0s 4ms/step - loss: 0.6643 - accuracy: 0.7142 - val_loss: 0.7341 - val_accuracy: 0.6573\n",
            "Epoch 31/100\n",
            "71/71 [==============================] - 0s 4ms/step - loss: 0.6556 - accuracy: 0.7178 - val_loss: 0.7426 - val_accuracy: 0.6400\n",
            "Epoch 32/100\n",
            "71/71 [==============================] - 0s 4ms/step - loss: 0.6466 - accuracy: 0.7151 - val_loss: 0.9580 - val_accuracy: 0.5147\n",
            "Epoch 33/100\n",
            "71/71 [==============================] - 0s 4ms/step - loss: 0.6445 - accuracy: 0.7222 - val_loss: 0.8574 - val_accuracy: 0.5573\n",
            "Epoch 34/100\n",
            "71/71 [==============================] - 0s 4ms/step - loss: 0.6345 - accuracy: 0.7169 - val_loss: 0.7823 - val_accuracy: 0.6160\n",
            "Epoch 35/100\n",
            "71/71 [==============================] - 0s 4ms/step - loss: 0.6267 - accuracy: 0.7280 - val_loss: 0.7577 - val_accuracy: 0.6133\n",
            "Epoch 36/100\n",
            "71/71 [==============================] - 0s 4ms/step - loss: 0.6190 - accuracy: 0.7391 - val_loss: 0.7166 - val_accuracy: 0.6587\n",
            "Epoch 37/100\n",
            "71/71 [==============================] - 0s 4ms/step - loss: 0.6204 - accuracy: 0.7293 - val_loss: 0.7909 - val_accuracy: 0.6067\n",
            "Epoch 38/100\n",
            "71/71 [==============================] - 0s 4ms/step - loss: 0.6125 - accuracy: 0.7333 - val_loss: 0.7240 - val_accuracy: 0.6507\n",
            "Epoch 39/100\n",
            "71/71 [==============================] - 0s 4ms/step - loss: 0.6067 - accuracy: 0.7373 - val_loss: 0.7904 - val_accuracy: 0.6000\n",
            "Epoch 40/100\n",
            "71/71 [==============================] - 0s 4ms/step - loss: 0.5942 - accuracy: 0.7493 - val_loss: 0.7576 - val_accuracy: 0.6427\n",
            "Epoch 41/100\n",
            "71/71 [==============================] - 0s 4ms/step - loss: 0.5895 - accuracy: 0.7533 - val_loss: 0.7121 - val_accuracy: 0.6813\n",
            "Epoch 42/100\n",
            "71/71 [==============================] - 0s 4ms/step - loss: 0.5916 - accuracy: 0.7520 - val_loss: 0.7075 - val_accuracy: 0.6600\n",
            "Epoch 43/100\n",
            "71/71 [==============================] - 0s 4ms/step - loss: 0.5831 - accuracy: 0.7560 - val_loss: 0.7905 - val_accuracy: 0.5853\n",
            "Epoch 44/100\n",
            "71/71 [==============================] - 0s 4ms/step - loss: 0.5696 - accuracy: 0.7591 - val_loss: 0.7413 - val_accuracy: 0.6160\n",
            "Epoch 45/100\n",
            "71/71 [==============================] - 0s 4ms/step - loss: 0.5687 - accuracy: 0.7662 - val_loss: 0.7238 - val_accuracy: 0.6600\n",
            "Epoch 46/100\n",
            "71/71 [==============================] - 0s 4ms/step - loss: 0.5631 - accuracy: 0.7676 - val_loss: 0.9161 - val_accuracy: 0.5853\n",
            "Epoch 47/100\n",
            "71/71 [==============================] - 0s 4ms/step - loss: 0.5653 - accuracy: 0.7671 - val_loss: 0.7094 - val_accuracy: 0.6467\n",
            "Epoch 48/100\n",
            "71/71 [==============================] - 0s 4ms/step - loss: 0.5566 - accuracy: 0.7729 - val_loss: 0.6934 - val_accuracy: 0.6747\n",
            "Epoch 49/100\n",
            "71/71 [==============================] - 0s 4ms/step - loss: 0.5465 - accuracy: 0.7760 - val_loss: 0.6913 - val_accuracy: 0.6773\n",
            "Epoch 50/100\n",
            "71/71 [==============================] - 0s 4ms/step - loss: 0.5437 - accuracy: 0.7853 - val_loss: 0.6838 - val_accuracy: 0.7027\n",
            "Epoch 51/100\n",
            "71/71 [==============================] - 0s 4ms/step - loss: 0.5399 - accuracy: 0.7796 - val_loss: 0.7525 - val_accuracy: 0.6227\n",
            "Epoch 52/100\n",
            "71/71 [==============================] - 0s 4ms/step - loss: 0.5302 - accuracy: 0.7876 - val_loss: 0.7058 - val_accuracy: 0.6560\n",
            "Epoch 53/100\n",
            "71/71 [==============================] - 0s 4ms/step - loss: 0.5245 - accuracy: 0.7947 - val_loss: 0.6891 - val_accuracy: 0.6720\n",
            "Epoch 54/100\n",
            "71/71 [==============================] - 0s 4ms/step - loss: 0.5266 - accuracy: 0.7947 - val_loss: 0.6843 - val_accuracy: 0.7013\n",
            "Epoch 55/100\n",
            "71/71 [==============================] - 0s 4ms/step - loss: 0.5119 - accuracy: 0.8000 - val_loss: 0.7508 - val_accuracy: 0.6160\n",
            "Epoch 56/100\n",
            "71/71 [==============================] - 0s 4ms/step - loss: 0.5156 - accuracy: 0.7920 - val_loss: 0.6865 - val_accuracy: 0.6760\n",
            "Epoch 57/100\n",
            "71/71 [==============================] - 0s 4ms/step - loss: 0.5066 - accuracy: 0.8004 - val_loss: 0.6852 - val_accuracy: 0.6733\n",
            "Epoch 58/100\n",
            "71/71 [==============================] - 0s 4ms/step - loss: 0.5021 - accuracy: 0.8031 - val_loss: 0.7313 - val_accuracy: 0.6387\n",
            "Epoch 59/100\n",
            "71/71 [==============================] - 0s 4ms/step - loss: 0.4972 - accuracy: 0.8053 - val_loss: 0.6886 - val_accuracy: 0.6720\n",
            "Epoch 60/100\n",
            "71/71 [==============================] - 0s 4ms/step - loss: 0.4962 - accuracy: 0.8138 - val_loss: 0.9520 - val_accuracy: 0.5893\n",
            "Epoch 61/100\n",
            "71/71 [==============================] - 0s 4ms/step - loss: 0.4840 - accuracy: 0.8156 - val_loss: 0.6734 - val_accuracy: 0.6840\n",
            "Epoch 62/100\n",
            "71/71 [==============================] - 0s 4ms/step - loss: 0.4838 - accuracy: 0.8142 - val_loss: 0.7846 - val_accuracy: 0.6027\n",
            "Epoch 63/100\n",
            "71/71 [==============================] - 0s 4ms/step - loss: 0.4789 - accuracy: 0.8138 - val_loss: 0.6869 - val_accuracy: 0.6667\n",
            "Epoch 64/100\n",
            "71/71 [==============================] - 0s 4ms/step - loss: 0.4776 - accuracy: 0.8147 - val_loss: 0.6616 - val_accuracy: 0.6947\n",
            "Epoch 65/100\n",
            "71/71 [==============================] - 0s 4ms/step - loss: 0.4665 - accuracy: 0.8196 - val_loss: 0.8517 - val_accuracy: 0.6187\n",
            "Epoch 66/100\n",
            "71/71 [==============================] - 0s 4ms/step - loss: 0.4694 - accuracy: 0.8147 - val_loss: 0.7649 - val_accuracy: 0.6187\n",
            "Epoch 67/100\n",
            "71/71 [==============================] - 0s 4ms/step - loss: 0.4709 - accuracy: 0.8240 - val_loss: 0.7151 - val_accuracy: 0.6520\n",
            "Epoch 68/100\n",
            "71/71 [==============================] - 0s 4ms/step - loss: 0.4605 - accuracy: 0.8280 - val_loss: 0.7159 - val_accuracy: 0.6680\n",
            "Epoch 69/100\n",
            "71/71 [==============================] - 0s 4ms/step - loss: 0.4532 - accuracy: 0.8333 - val_loss: 0.7241 - val_accuracy: 0.6427\n",
            "Epoch 70/100\n",
            "71/71 [==============================] - 0s 4ms/step - loss: 0.4505 - accuracy: 0.8298 - val_loss: 0.6834 - val_accuracy: 0.6680\n",
            "Epoch 71/100\n",
            "71/71 [==============================] - 0s 4ms/step - loss: 0.4441 - accuracy: 0.8271 - val_loss: 0.7571 - val_accuracy: 0.6307\n",
            "Epoch 72/100\n",
            "71/71 [==============================] - 0s 4ms/step - loss: 0.4468 - accuracy: 0.8276 - val_loss: 0.7683 - val_accuracy: 0.6347\n",
            "Epoch 73/100\n",
            "71/71 [==============================] - 0s 4ms/step - loss: 0.4407 - accuracy: 0.8311 - val_loss: 0.6907 - val_accuracy: 0.6787\n",
            "Epoch 74/100\n",
            "71/71 [==============================] - 0s 4ms/step - loss: 0.4336 - accuracy: 0.8436 - val_loss: 0.6768 - val_accuracy: 0.6747\n",
            "Epoch 75/100\n",
            "71/71 [==============================] - 0s 4ms/step - loss: 0.4275 - accuracy: 0.8418 - val_loss: 0.7641 - val_accuracy: 0.6480\n",
            "Epoch 76/100\n",
            "71/71 [==============================] - 0s 4ms/step - loss: 0.4247 - accuracy: 0.8476 - val_loss: 0.6770 - val_accuracy: 0.6853\n",
            "Epoch 77/100\n",
            "71/71 [==============================] - 0s 4ms/step - loss: 0.4274 - accuracy: 0.8387 - val_loss: 0.6835 - val_accuracy: 0.7027\n",
            "Epoch 78/100\n",
            "71/71 [==============================] - 0s 4ms/step - loss: 0.4165 - accuracy: 0.8458 - val_loss: 0.6643 - val_accuracy: 0.6867\n",
            "Epoch 79/100\n",
            "71/71 [==============================] - 0s 4ms/step - loss: 0.4187 - accuracy: 0.8404 - val_loss: 0.7029 - val_accuracy: 0.6613\n",
            "Epoch 80/100\n",
            "71/71 [==============================] - 0s 4ms/step - loss: 0.4105 - accuracy: 0.8524 - val_loss: 0.6742 - val_accuracy: 0.6693\n",
            "Epoch 81/100\n",
            "71/71 [==============================] - 0s 4ms/step - loss: 0.4097 - accuracy: 0.8467 - val_loss: 0.6874 - val_accuracy: 0.6747\n",
            "Epoch 82/100\n",
            "71/71 [==============================] - 0s 4ms/step - loss: 0.4090 - accuracy: 0.8507 - val_loss: 0.7075 - val_accuracy: 0.6947\n",
            "Epoch 83/100\n",
            "71/71 [==============================] - 0s 4ms/step - loss: 0.3985 - accuracy: 0.8516 - val_loss: 0.6454 - val_accuracy: 0.6987\n",
            "Epoch 84/100\n",
            "71/71 [==============================] - 0s 4ms/step - loss: 0.3949 - accuracy: 0.8569 - val_loss: 0.6932 - val_accuracy: 0.6773\n",
            "Epoch 85/100\n",
            "71/71 [==============================] - 0s 4ms/step - loss: 0.4006 - accuracy: 0.8596 - val_loss: 0.7826 - val_accuracy: 0.6333\n",
            "Epoch 86/100\n",
            "71/71 [==============================] - 0s 4ms/step - loss: 0.3987 - accuracy: 0.8502 - val_loss: 0.6679 - val_accuracy: 0.6867\n",
            "Epoch 87/100\n",
            "71/71 [==============================] - 0s 4ms/step - loss: 0.3883 - accuracy: 0.8644 - val_loss: 0.6612 - val_accuracy: 0.6960\n",
            "Epoch 88/100\n",
            "71/71 [==============================] - 0s 4ms/step - loss: 0.3797 - accuracy: 0.8644 - val_loss: 0.6689 - val_accuracy: 0.7013\n",
            "Epoch 89/100\n",
            "71/71 [==============================] - 0s 4ms/step - loss: 0.3860 - accuracy: 0.8578 - val_loss: 0.6887 - val_accuracy: 0.6747\n",
            "Epoch 90/100\n",
            "71/71 [==============================] - 0s 4ms/step - loss: 0.3765 - accuracy: 0.8604 - val_loss: 0.6884 - val_accuracy: 0.6760\n",
            "Epoch 91/100\n",
            "71/71 [==============================] - 0s 4ms/step - loss: 0.3718 - accuracy: 0.8684 - val_loss: 0.6682 - val_accuracy: 0.6760\n",
            "Epoch 92/100\n",
            "71/71 [==============================] - 0s 4ms/step - loss: 0.3732 - accuracy: 0.8689 - val_loss: 0.6887 - val_accuracy: 0.6960\n",
            "Epoch 93/100\n",
            "71/71 [==============================] - 0s 4ms/step - loss: 0.3665 - accuracy: 0.8680 - val_loss: 0.6931 - val_accuracy: 0.7040\n",
            "Epoch 94/100\n",
            "71/71 [==============================] - 0s 4ms/step - loss: 0.3595 - accuracy: 0.8831 - val_loss: 0.6727 - val_accuracy: 0.6893\n",
            "Epoch 95/100\n",
            "71/71 [==============================] - 0s 4ms/step - loss: 0.3682 - accuracy: 0.8698 - val_loss: 0.6641 - val_accuracy: 0.6933\n",
            "Epoch 96/100\n",
            "71/71 [==============================] - 0s 4ms/step - loss: 0.3573 - accuracy: 0.8707 - val_loss: 0.7112 - val_accuracy: 0.6747\n",
            "Epoch 97/100\n",
            "71/71 [==============================] - 0s 4ms/step - loss: 0.3516 - accuracy: 0.8764 - val_loss: 0.7391 - val_accuracy: 0.6573\n",
            "Epoch 98/100\n",
            "71/71 [==============================] - 0s 4ms/step - loss: 0.3544 - accuracy: 0.8733 - val_loss: 0.6817 - val_accuracy: 0.6800\n",
            "Epoch 99/100\n",
            "71/71 [==============================] - 0s 4ms/step - loss: 0.3513 - accuracy: 0.8804 - val_loss: 0.6671 - val_accuracy: 0.6973\n",
            "Epoch 100/100\n",
            "71/71 [==============================] - 0s 4ms/step - loss: 0.3513 - accuracy: 0.8751 - val_loss: 0.7017 - val_accuracy: 0.7000\n"
          ],
          "name": "stdout"
        }
      ]
    },
    {
      "cell_type": "code",
      "metadata": {
        "id": "qH9SDbuAiYsf",
        "outputId": "4181a9ec-fc17-41e0-b676-99ebfebcefe7",
        "colab": {
          "base_uri": "https://localhost:8080/"
        }
      },
      "source": [
        "# evaluate the network\n",
        "print(\"[INFO] evaluating network...\")\n",
        "predictions = model.predict(testX, batch_size=32)\n",
        "print(classification_report(testY.argmax(axis=1),\n",
        "\tpredictions.argmax(axis=1),\n",
        "\ttarget_names=[\"cat\", \"dog\", \"panda\"]))"
      ],
      "execution_count": 9,
      "outputs": [
        {
          "output_type": "stream",
          "text": [
            "[INFO] evaluating network...\n",
            "              precision    recall  f1-score   support\n",
            "\n",
            "         cat       0.70      0.65      0.68       262\n",
            "         dog       0.65      0.53      0.58       249\n",
            "       panda       0.73      0.93      0.82       239\n",
            "\n",
            "    accuracy                           0.70       750\n",
            "   macro avg       0.69      0.70      0.69       750\n",
            "weighted avg       0.69      0.70      0.69       750\n",
            "\n"
          ],
          "name": "stdout"
        }
      ]
    },
    {
      "cell_type": "code",
      "metadata": {
        "id": "0XAPvYEiibaN",
        "outputId": "59ed0052-2422-4f75-85bb-615089ad420b",
        "colab": {
          "base_uri": "https://localhost:8080/",
          "height": 299
        }
      },
      "source": [
        "plt.style.use(\"ggplot\")\n",
        "plt.figure()\n",
        "plt.plot(np.arange(0, 100), H.history[\"loss\"], label=\"train_loss\")\n",
        "plt.plot(np.arange(0, 100), H.history[\"val_loss\"], label=\"val_loss\")\n",
        "plt.plot(np.arange(0, 100), H.history[\"accuracy\"], label=\"train_acc\")\n",
        "plt.plot(np.arange(0, 100), H.history[\"val_accuracy\"], label=\"val_acc\")\n",
        "plt.title(\"Training Loss and Accuracy\")\n",
        "plt.xlabel(\"Epoch #\")\n",
        "plt.ylabel(\"Loss/Accuracy\")\n",
        "plt.legend()\n",
        "plt.show()"
      ],
      "execution_count": 10,
      "outputs": [
        {
          "output_type": "display_data",
          "data": {
            "image/png": "[encoded data removed]",
            "text/plain": [
              "<Figure size 432x288 with 1 Axes>"
            ]
          },
          "metadata": {
            "tags": []
          }
        }
      ]
    },
    {
      "cell_type": "code",
      "metadata": {
        "id": "JhioebhWidn-",
        "outputId": "ba82a5dc-0698-4c77-f106-8536d9249185",
        "colab": {
          "base_uri": "https://localhost:8080/"
        }
      },
      "source": [
        "# load the training and testing data, then scale it into the\n",
        "# range [0, 1]\n",
        "print(\"[INFO] loading CIFAR-10 data...\")\n",
        "((trainX, trainY), (testX, testY)) = cifar10.load_data()\n",
        "trainX = trainX.astype(\"float\") / 255.0\n",
        "testX = testX.astype(\"float\") / 255.0\n",
        "\n",
        "# convert the labels from integers to vectors\n",
        "lb = LabelBinarizer()\n",
        "trainY = lb.fit_transform(trainY)\n",
        "testY = lb.transform(testY)\n",
        "\n",
        "# initialize the label names for the CIFAR-10 dataset\n",
        "labelNames = [\"airplane\", \"automobile\", \"bird\", \"cat\", \"deer\",\n",
        "\t\"dog\", \"frog\", \"horse\", \"ship\", \"truck\"]"
      ],
      "execution_count": 11,
      "outputs": [
        {
          "output_type": "stream",
          "text": [
            "[INFO] loading CIFAR-10 data...\n",
            "Downloading data from https://www.cs.toronto.edu/~kriz/cifar-10-python.tar.gz\n",
            "170500096/170498071 [==============================] - 4s 0us/step\n"
          ],
          "name": "stdout"
        }
      ]
    },
    {
      "cell_type": "code",
      "metadata": {
        "id": "-houRI12irVW",
        "outputId": "632bb77e-773f-429a-87e8-69f324c481fa",
        "colab": {
          "base_uri": "https://localhost:8080/"
        }
      },
      "source": [
        "# initialize the optimizer and model\n",
        "print(\"[INFO] compiling model...\")\n",
        "opt = SGD(lr=0.01)\n",
        "model = ShallowNet.build(width=32, height=32, depth=3, classes=10)\n",
        "model.compile(loss=\"categorical_crossentropy\", optimizer=opt,\n",
        "\tmetrics=[\"accuracy\"])\n",
        "\n",
        "# train the network\n",
        "print(\"[INFO] training network...\")\n",
        "H = model.fit(trainX, trainY, validation_data=(testX, testY),\n",
        "\tbatch_size=32, epochs=40, verbose=1)"
      ],
      "execution_count": 12,
      "outputs": [
        {
          "output_type": "stream",
          "text": [
            "[INFO] compiling model...\n",
            "[INFO] training network...\n"
          ],
          "name": "stdout"
        },
        {
          "output_type": "stream",
          "text": [
            "/usr/local/lib/python3.7/dist-packages/tensorflow/python/keras/optimizer_v2/optimizer_v2.py:375: UserWarning: The `lr` argument is deprecated, use `learning_rate` instead.\n",
            "  \"The `lr` argument is deprecated, use `learning_rate` instead.\")\n"
          ],
          "name": "stderr"
        },
        {
          "output_type": "stream",
          "text": [
            "Epoch 1/40\n",
            "1563/1563 [==============================] - 6s 4ms/step - loss: 1.8035 - accuracy: 0.3682 - val_loss: 1.6302 - val_accuracy: 0.4235\n",
            "Epoch 2/40\n",
            "1563/1563 [==============================] - 5s 3ms/step - loss: 1.5271 - accuracy: 0.4696 - val_loss: 1.5125 - val_accuracy: 0.4424\n",
            "Epoch 3/40\n",
            "1563/1563 [==============================] - 5s 3ms/step - loss: 1.3869 - accuracy: 0.5153 - val_loss: 1.3571 - val_accuracy: 0.5199\n",
            "Epoch 4/40\n",
            "1563/1563 [==============================] - 5s 3ms/step - loss: 1.3146 - accuracy: 0.5408 - val_loss: 1.3479 - val_accuracy: 0.5287\n",
            "Epoch 5/40\n",
            "1563/1563 [==============================] - 6s 4ms/step - loss: 1.2707 - accuracy: 0.5531 - val_loss: 1.3102 - val_accuracy: 0.5335\n",
            "Epoch 6/40\n",
            "1563/1563 [==============================] - 6s 4ms/step - loss: 1.2340 - accuracy: 0.5657 - val_loss: 1.3015 - val_accuracy: 0.5352\n",
            "Epoch 7/40\n",
            "1563/1563 [==============================] - 6s 4ms/step - loss: 1.2041 - accuracy: 0.5790 - val_loss: 1.3047 - val_accuracy: 0.5397\n",
            "Epoch 8/40\n",
            "1563/1563 [==============================] - 6s 4ms/step - loss: 1.1764 - accuracy: 0.5883 - val_loss: 1.2590 - val_accuracy: 0.5569\n",
            "Epoch 9/40\n",
            "1563/1563 [==============================] - 5s 3ms/step - loss: 1.1523 - accuracy: 0.5980 - val_loss: 1.2805 - val_accuracy: 0.5426\n",
            "Epoch 10/40\n",
            "1563/1563 [==============================] - 5s 3ms/step - loss: 1.1275 - accuracy: 0.6063 - val_loss: 1.2376 - val_accuracy: 0.5645\n",
            "Epoch 11/40\n",
            "1563/1563 [==============================] - 5s 3ms/step - loss: 1.1052 - accuracy: 0.6156 - val_loss: 1.2564 - val_accuracy: 0.5550\n",
            "Epoch 12/40\n",
            "1563/1563 [==============================] - 5s 3ms/step - loss: 1.0869 - accuracy: 0.6251 - val_loss: 1.2218 - val_accuracy: 0.5695\n",
            "Epoch 13/40\n",
            "1563/1563 [==============================] - 5s 3ms/step - loss: 1.0668 - accuracy: 0.6296 - val_loss: 1.2035 - val_accuracy: 0.5759\n",
            "Epoch 14/40\n",
            "1563/1563 [==============================] - 5s 3ms/step - loss: 1.0433 - accuracy: 0.6371 - val_loss: 1.3483 - val_accuracy: 0.5278\n",
            "Epoch 15/40\n",
            "1563/1563 [==============================] - 5s 3ms/step - loss: 1.0229 - accuracy: 0.6461 - val_loss: 1.2536 - val_accuracy: 0.5587\n",
            "Epoch 16/40\n",
            "1563/1563 [==============================] - 5s 3ms/step - loss: 1.0033 - accuracy: 0.6525 - val_loss: 1.2106 - val_accuracy: 0.5755\n",
            "Epoch 17/40\n",
            "1563/1563 [==============================] - 6s 4ms/step - loss: 0.9840 - accuracy: 0.6589 - val_loss: 1.1827 - val_accuracy: 0.5872\n",
            "Epoch 18/40\n",
            "1563/1563 [==============================] - 6s 4ms/step - loss: 0.9643 - accuracy: 0.6666 - val_loss: 1.2148 - val_accuracy: 0.5725\n",
            "Epoch 19/40\n",
            "1563/1563 [==============================] - 6s 4ms/step - loss: 0.9463 - accuracy: 0.6725 - val_loss: 1.1851 - val_accuracy: 0.5881\n",
            "Epoch 20/40\n",
            "1563/1563 [==============================] - 6s 4ms/step - loss: 0.9289 - accuracy: 0.6808 - val_loss: 1.1769 - val_accuracy: 0.5983\n",
            "Epoch 21/40\n",
            "1563/1563 [==============================] - 5s 3ms/step - loss: 0.9105 - accuracy: 0.6836 - val_loss: 1.2230 - val_accuracy: 0.5777\n",
            "Epoch 22/40\n",
            "1563/1563 [==============================] - 5s 3ms/step - loss: 0.8945 - accuracy: 0.6905 - val_loss: 1.1987 - val_accuracy: 0.5828\n",
            "Epoch 23/40\n",
            "1563/1563 [==============================] - 5s 3ms/step - loss: 0.8787 - accuracy: 0.6977 - val_loss: 1.2181 - val_accuracy: 0.5838\n",
            "Epoch 24/40\n",
            "1563/1563 [==============================] - 5s 3ms/step - loss: 0.8640 - accuracy: 0.6995 - val_loss: 1.2256 - val_accuracy: 0.5848\n",
            "Epoch 25/40\n",
            "1563/1563 [==============================] - 5s 3ms/step - loss: 0.8501 - accuracy: 0.7061 - val_loss: 1.2265 - val_accuracy: 0.5787\n",
            "Epoch 26/40\n",
            "1563/1563 [==============================] - 5s 3ms/step - loss: 0.8372 - accuracy: 0.7125 - val_loss: 1.2423 - val_accuracy: 0.5731\n",
            "Epoch 27/40\n",
            "1563/1563 [==============================] - 5s 3ms/step - loss: 0.8238 - accuracy: 0.7165 - val_loss: 1.1898 - val_accuracy: 0.5929\n",
            "Epoch 28/40\n",
            "1563/1563 [==============================] - 5s 3ms/step - loss: 0.8099 - accuracy: 0.7215 - val_loss: 1.1867 - val_accuracy: 0.5973\n",
            "Epoch 29/40\n",
            "1563/1563 [==============================] - 6s 4ms/step - loss: 0.7970 - accuracy: 0.7262 - val_loss: 1.3027 - val_accuracy: 0.5681\n",
            "Epoch 30/40\n",
            "1563/1563 [==============================] - 6s 4ms/step - loss: 0.7844 - accuracy: 0.7302 - val_loss: 1.1857 - val_accuracy: 0.5957\n",
            "Epoch 31/40\n",
            "1563/1563 [==============================] - 6s 4ms/step - loss: 0.7738 - accuracy: 0.7349 - val_loss: 1.2203 - val_accuracy: 0.5911\n",
            "Epoch 32/40\n",
            "1563/1563 [==============================] - 6s 4ms/step - loss: 0.7602 - accuracy: 0.7407 - val_loss: 1.2106 - val_accuracy: 0.5931\n",
            "Epoch 33/40\n",
            "1563/1563 [==============================] - 6s 4ms/step - loss: 0.7511 - accuracy: 0.7418 - val_loss: 1.2023 - val_accuracy: 0.5979\n",
            "Epoch 34/40\n",
            "1563/1563 [==============================] - 5s 3ms/step - loss: 0.7384 - accuracy: 0.7452 - val_loss: 1.2624 - val_accuracy: 0.5791\n",
            "Epoch 35/40\n",
            "1563/1563 [==============================] - 5s 3ms/step - loss: 0.7264 - accuracy: 0.7504 - val_loss: 1.2115 - val_accuracy: 0.5988\n",
            "Epoch 36/40\n",
            "1563/1563 [==============================] - 6s 4ms/step - loss: 0.7156 - accuracy: 0.7539 - val_loss: 1.3716 - val_accuracy: 0.5612\n",
            "Epoch 37/40\n",
            "1563/1563 [==============================] - 6s 4ms/step - loss: 0.7052 - accuracy: 0.7592 - val_loss: 1.2640 - val_accuracy: 0.5923\n",
            "Epoch 38/40\n",
            "1563/1563 [==============================] - 6s 4ms/step - loss: 0.6966 - accuracy: 0.7610 - val_loss: 1.2391 - val_accuracy: 0.5872\n",
            "Epoch 39/40\n",
            "1563/1563 [==============================] - 6s 4ms/step - loss: 0.6855 - accuracy: 0.7647 - val_loss: 1.2287 - val_accuracy: 0.5924\n",
            "Epoch 40/40\n",
            "1563/1563 [==============================] - 5s 3ms/step - loss: 0.6756 - accuracy: 0.7708 - val_loss: 1.2467 - val_accuracy: 0.5931\n"
          ],
          "name": "stdout"
        }
      ]
    },
    {
      "cell_type": "code",
      "metadata": {
        "id": "Bw8G9mUmiufm",
        "outputId": "4b934942-d773-4c25-e2e6-ad2211ff0161",
        "colab": {
          "base_uri": "https://localhost:8080/"
        }
      },
      "source": [
        "# evaluate the network\n",
        "print(\"[INFO] evaluating network...\")\n",
        "predictions = model.predict(testX, batch_size=32)\n",
        "print(classification_report(testY.argmax(axis=1),\n",
        "\tpredictions.argmax(axis=1), target_names=labelNames))"
      ],
      "execution_count": 13,
      "outputs": [
        {
          "output_type": "stream",
          "text": [
            "[INFO] evaluating network...\n",
            "              precision    recall  f1-score   support\n",
            "\n",
            "    airplane       0.60      0.70      0.64      1000\n",
            "  automobile       0.78      0.62      0.69      1000\n",
            "        bird       0.44      0.46      0.45      1000\n",
            "         cat       0.40      0.47      0.43      1000\n",
            "        deer       0.55      0.44      0.49      1000\n",
            "         dog       0.54      0.37      0.44      1000\n",
            "        frog       0.72      0.71      0.72      1000\n",
            "       horse       0.70      0.62      0.66      1000\n",
            "        ship       0.68      0.74      0.71      1000\n",
            "       truck       0.58      0.79      0.67      1000\n",
            "\n",
            "    accuracy                           0.59     10000\n",
            "   macro avg       0.60      0.59      0.59     10000\n",
            "weighted avg       0.60      0.59      0.59     10000\n",
            "\n"
          ],
          "name": "stdout"
        }
      ]
    },
    {
      "cell_type": "code",
      "metadata": {
        "id": "FdAeWWXoiw3D",
        "outputId": "4acf8239-84dc-4856-f8c2-fc158d7eb319",
        "colab": {
          "base_uri": "https://localhost:8080/",
          "height": 299
        }
      },
      "source": [
        "# plot the training loss and accuracy\n",
        "plt.style.use(\"ggplot\")\n",
        "plt.figure()\n",
        "plt.plot(np.arange(0, 40), H.history[\"loss\"], label=\"train_loss\")\n",
        "plt.plot(np.arange(0, 40), H.history[\"val_loss\"], label=\"val_loss\")\n",
        "plt.plot(np.arange(0, 40), H.history[\"accuracy\"], label=\"train_acc\")\n",
        "plt.plot(np.arange(0, 40), H.history[\"val_accuracy\"], label=\"val_acc\")\n",
        "plt.title(\"Training Loss and Accuracy\")\n",
        "plt.xlabel(\"Epoch #\")\n",
        "plt.ylabel(\"Loss/Accuracy\")\n",
        "plt.legend()\n",
        "plt.show()"
      ],
      "execution_count": 14,
      "outputs": [
        {
          "output_type": "display_data",
          "data": {
            "image/png": "[encoded data removed]",
            "text/plain": [
              "<Figure size 432x288 with 1 Axes>"
            ]
          },
          "metadata": {
            "tags": []
          }
        }
      ]
    },
    {
      "cell_type": "markdown",
      "metadata": {
        "id": "iIK0y_52aETm"
      },
      "source": [
        "For a detailed walkthrough of the concepts and code, be sure to refer to the full tutorial, [*A gentle guide to training your first CNN with Keras and TensorFlow*](https://www.pyimagesearch.com/2021/05/22/a-gentle-guide-to-training-your-first-cnn-with-keras-and-tensorflow/) published on 2021-05-22."
      ]
    }
  ]
}