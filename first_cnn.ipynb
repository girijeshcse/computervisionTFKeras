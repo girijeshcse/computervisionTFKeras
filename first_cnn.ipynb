{
  "nbformat": 4,
  "nbformat_minor": 0,
  "metadata": {
    "colab": {
      "name": "first_cnn.ipynb",
      "provenance": [],
      "collapsed_sections": [],
      "toc_visible": true,
      "include_colab_link": true
    },
    "kernelspec": {
      "name": "python3",
      "display_name": "Python 3"
    },
    "language_info": {
      "name": "python"
    },
    "accelerator": "GPU"
  },
  "cells": [
    {
      "cell_type": "markdown",
      "metadata": {
        "id": "view-in-github",
        "colab_type": "text"
      },
      "source": [
        "<a href=\"https://colab.research.google.com/github/girijeshcse/computervisionTFKeras/blob/main/first_cnn.ipynb\" target=\"_parent\"><img src=\"https://colab.research.google.com/assets/colab-badge.svg\" alt=\"Open In Colab\"/></a>"
      ]
    },
    {
      "cell_type": "markdown",
      "metadata": {
        "id": "NFhAzQB3aNMa"
      },
      "source": [
        "### Download the code zip file"
      ]
    },
    {
      "cell_type": "code",
      "metadata": {
        "id": "7y0LG1EuaRlB",
        "colab": {
          "base_uri": "https://localhost:8080/"
        },
        "outputId": "0b9f4094-5e19-43cd-9163-2306e80a427e"
      },
      "source": [
        "!wget https://pyimagesearch-code-downloads.s3-us-west-2.amazonaws.com/first-cnn/first-cnn.zip\n",
        "!unzip -qq first-cnn.zip\n",
        "%cd first-cnn\n",
        "!wget https://pis-datasets.s3.us-east-2.amazonaws.com/animals.zip\n",
        "!unzip -qq animals.zip"
      ],
      "execution_count": 2,
      "outputs": [
        {
          "output_type": "stream",
          "text": [
            "--2021-08-06 03:43:45--  https://pyimagesearch-code-downloads.s3-us-west-2.amazonaws.com/first-cnn/first-cnn.zip\n",
            "Resolving pyimagesearch-code-downloads.s3-us-west-2.amazonaws.com (pyimagesearch-code-downloads.s3-us-west-2.amazonaws.com)... 52.218.197.33\n",
            "Connecting to pyimagesearch-code-downloads.s3-us-west-2.amazonaws.com (pyimagesearch-code-downloads.s3-us-west-2.amazonaws.com)|52.218.197.33|:443... connected.\n",
            "HTTP request sent, awaiting response... 200 OK\n",
            "Length: 10378 (10K) [binary/octet-stream]\n",
            "Saving to: ‘first-cnn.zip’\n",
            "\n",
            "first-cnn.zip       100%[===================>]  10.13K  --.-KB/s    in 0s      \n",
            "\n",
            "2021-08-06 03:43:45 (194 MB/s) - ‘first-cnn.zip’ saved [10378/10378]\n",
            "\n",
            "/content/first-cnn\n",
            "--2021-08-06 03:43:45--  https://pis-datasets.s3.us-east-2.amazonaws.com/animals.zip\n",
            "Resolving pis-datasets.s3.us-east-2.amazonaws.com (pis-datasets.s3.us-east-2.amazonaws.com)... 52.219.84.64\n",
            "Connecting to pis-datasets.s3.us-east-2.amazonaws.com (pis-datasets.s3.us-east-2.amazonaws.com)|52.219.84.64|:443... connected.\n",
            "HTTP request sent, awaiting response... 200 OK\n",
            "Length: 196780870 (188M) [application/zip]\n",
            "Saving to: ‘animals.zip’\n",
            "\n",
            "animals.zip         100%[===================>] 187.66M  47.1MB/s    in 4.4s    \n",
            "\n",
            "2021-08-06 03:43:50 (42.3 MB/s) - ‘animals.zip’ saved [196780870/196780870]\n",
            "\n"
          ],
          "name": "stdout"
        }
      ]
    },
    {
      "cell_type": "markdown",
      "metadata": {
        "id": "_SgTVT3HagGZ"
      },
      "source": [
        "## Blog Post Code"
      ]
    },
    {
      "cell_type": "markdown",
      "metadata": {
        "id": "wcrOk6pURp50"
      },
      "source": [
        "### Import Packages"
      ]
    },
    {
      "cell_type": "code",
      "metadata": {
        "id": "-u4dX25-Z-pO"
      },
      "source": [
        "# import the necessary packages\n",
        "from sklearn.preprocessing import LabelBinarizer\n",
        "from sklearn.model_selection import train_test_split\n",
        "from sklearn.metrics import classification_report\n",
        "from pyimagesearch.preprocessing import ImageToArrayPreprocessor\n",
        "from pyimagesearch.preprocessing import SimplePreprocessor\n",
        "from pyimagesearch.datasets import SimpleDatasetLoader\n",
        "from tensorflow.keras.models import Sequential\n",
        "from tensorflow.keras.layers import Conv2D\n",
        "from tensorflow.keras.layers import Activation\n",
        "from tensorflow.keras.layers import Flatten\n",
        "from tensorflow.keras.layers import Dense\n",
        "from tensorflow.keras import backend as K\n",
        "from tensorflow.keras.optimizers import SGD\n",
        "from tensorflow.keras.datasets import cifar10\n",
        "from imutils import paths\n",
        "import matplotlib.pyplot as plt\n",
        "import numpy as np"
      ],
      "execution_count": 3,
      "outputs": []
    },
    {
      "cell_type": "markdown",
      "metadata": {
        "id": "hAfsGdJ9eCja"
      },
      "source": [
        "### Implementing ShallowNet \n"
      ]
    },
    {
      "cell_type": "code",
      "metadata": {
        "id": "DwMuFmXPd1Aa"
      },
      "source": [
        "class ShallowNet:\n",
        "\t@staticmethod\n",
        "\tdef build(width, height, depth, classes):\n",
        "\t\t# initialize the model along with the input shape to be\n",
        "\t\t# \"channels last\"\n",
        "\t\tmodel = Sequential()\n",
        "\t\tinputShape = (height, width, depth)\n",
        "\n",
        "\t\t# if we are using \"channels first\", update the input shape\n",
        "\t\tif K.image_data_format() == \"channels_first\":\n",
        "\t\t\tinputShape = (depth, height, width)\n",
        "\n",
        "\t\t# define the first (and only) CONV => RELU layer\n",
        "\t\tmodel.add(Conv2D(32, (3, 3), padding=\"same\",\n",
        "\t\t\tinput_shape=inputShape))\n",
        "\t\tmodel.add(Activation(\"relu\"))\n",
        "\n",
        "\t\t# softmax classifier\n",
        "\t\tmodel.add(Flatten())\n",
        "\t\tmodel.add(Dense(classes))\n",
        "\t\tmodel.add(Activation(\"softmax\"))\n",
        "\n",
        "\t\t# return the constructed network architecture\n",
        "\t\treturn model"
      ],
      "execution_count": 4,
      "outputs": []
    },
    {
      "cell_type": "markdown",
      "metadata": {
        "id": "FdfY-xw3fToh"
      },
      "source": [
        "### ShallowNet on Animals"
      ]
    },
    {
      "cell_type": "code",
      "metadata": {
        "id": "_gTqebWnfKmh",
        "colab": {
          "base_uri": "https://localhost:8080/"
        },
        "outputId": "6adea2d0-be16-4732-cfac-1e942ca47c2d"
      },
      "source": [
        "# grab the list of images that we'll be describing\n",
        "print(\"[INFO] loading images...\")\n",
        "imagePaths = list(paths.list_images(\"animals\"))"
      ],
      "execution_count": 5,
      "outputs": [
        {
          "output_type": "stream",
          "text": [
            "[INFO] loading images...\n"
          ],
          "name": "stdout"
        }
      ]
    },
    {
      "cell_type": "code",
      "metadata": {
        "id": "RZsyVbi9h-zw",
        "colab": {
          "base_uri": "https://localhost:8080/"
        },
        "outputId": "e87baa0d-e8c3-4a50-eecc-2d4740e4e455"
      },
      "source": [
        "# initialize the image preprocessors\n",
        "sp = SimplePreprocessor(32, 32)\n",
        "iap = ImageToArrayPreprocessor()\n",
        "\n",
        "# load the dataset from disk then scale the raw pixel intensities\n",
        "# to the range [0, 1]\n",
        "sdl = SimpleDatasetLoader(preprocessors=[sp, iap])\n",
        "(data, labels) = sdl.load(imagePaths, verbose=500)\n",
        "data = data.astype(\"float\") / 255.0"
      ],
      "execution_count": 6,
      "outputs": [
        {
          "output_type": "stream",
          "text": [
            "[INFO] processed 500/3000\n",
            "[INFO] processed 1000/3000\n",
            "[INFO] processed 1500/3000\n",
            "[INFO] processed 2000/3000\n",
            "[INFO] processed 2500/3000\n",
            "[INFO] processed 3000/3000\n"
          ],
          "name": "stdout"
        }
      ]
    },
    {
      "cell_type": "code",
      "metadata": {
        "id": "l9OTeOy0iIDf"
      },
      "source": [
        "# partition the data into training and testing splits using 75% of\n",
        "# the data for training and the remaining 25% for testing\n",
        "(trainX, testX, trainY, testY) = train_test_split(data, labels,\n",
        "\ttest_size=0.25, random_state=42)\n",
        "\n",
        "# convert the labels from integers to vectors\n",
        "trainY = LabelBinarizer().fit_transform(trainY)\n",
        "testY = LabelBinarizer().fit_transform(testY)"
      ],
      "execution_count": 7,
      "outputs": []
    },
    {
      "cell_type": "code",
      "metadata": {
        "id": "gQBCHnW5iQrA",
        "colab": {
          "base_uri": "https://localhost:8080/"
        },
        "outputId": "e99b485a-76c9-4a05-f20e-ea96997719d0"
      },
      "source": [
        "# initialize the optimizer and model\n",
        "print(\"[INFO] compiling model...\")\n",
        "opt = SGD(learning_rate=0.005)\n",
        "model = ShallowNet.build(width=32, height=32, depth=3, classes=3)\n",
        "model.compile(loss=\"categorical_crossentropy\", optimizer=opt,\n",
        "\tmetrics=[\"accuracy\"])\n",
        "\n",
        "# train the network\n",
        "print(\"[INFO] training network...\")\n",
        "H = model.fit(trainX, trainY, validation_data=(testX, testY),\n",
        "\tbatch_size=32, epochs=100, verbose=1)"
      ],
      "execution_count": 8,
      "outputs": [
        {
          "output_type": "stream",
          "text": [
            "[INFO] compiling model...\n"
          ],
          "name": "stdout"
        },
        {
          "output_type": "stream",
          "text": [
            "/usr/local/lib/python3.7/dist-packages/tensorflow/python/keras/optimizer_v2/optimizer_v2.py:375: UserWarning: The `lr` argument is deprecated, use `learning_rate` instead.\n",
            "  \"The `lr` argument is deprecated, use `learning_rate` instead.\")\n"
          ],
          "name": "stderr"
        },
        {
          "output_type": "stream",
          "text": [
            "[INFO] training network...\n",
            "Epoch 1/100\n",
            "71/71 [==============================] - 32s 8ms/step - loss: 1.0181 - accuracy: 0.4587 - val_loss: 0.9525 - val_accuracy: 0.5133\n",
            "Epoch 2/100\n",
            "71/71 [==============================] - 0s 4ms/step - loss: 0.9227 - accuracy: 0.5320 - val_loss: 1.0068 - val_accuracy: 0.4907\n",
            "Epoch 3/100\n",
            "71/71 [==============================] - 0s 4ms/step - loss: 0.8918 - accuracy: 0.5427 - val_loss: 0.9554 - val_accuracy: 0.5200\n",
            "Epoch 4/100\n",
            "71/71 [==============================] - 0s 4ms/step - loss: 0.8772 - accuracy: 0.5516 - val_loss: 0.9404 - val_accuracy: 0.5200\n",
            "Epoch 5/100\n",
            "71/71 [==============================] - 0s 4ms/step - loss: 0.8493 - accuracy: 0.5649 - val_loss: 0.8982 - val_accuracy: 0.5253\n",
            "Epoch 6/100\n",
            "71/71 [==============================] - 0s 4ms/step - loss: 0.8333 - accuracy: 0.5836 - val_loss: 1.0338 - val_accuracy: 0.4893\n",
            "Epoch 7/100\n",
            "71/71 [==============================] - 0s 4ms/step - loss: 0.8284 - accuracy: 0.5880 - val_loss: 0.8934 - val_accuracy: 0.5267\n",
            "Epoch 8/100\n",
            "71/71 [==============================] - 0s 4ms/step - loss: 0.8085 - accuracy: 0.6044 - val_loss: 0.8369 - val_accuracy: 0.5987\n",
            "Epoch 9/100\n",
            "71/71 [==============================] - 0s 4ms/step - loss: 0.8021 - accuracy: 0.6084 - val_loss: 0.8518 - val_accuracy: 0.5907\n",
            "Epoch 10/100\n",
            "71/71 [==============================] - 0s 4ms/step - loss: 0.7986 - accuracy: 0.6231 - val_loss: 0.8066 - val_accuracy: 0.6093\n",
            "Epoch 11/100\n",
            "71/71 [==============================] - 0s 4ms/step - loss: 0.7868 - accuracy: 0.6307 - val_loss: 0.8518 - val_accuracy: 0.5680\n",
            "Epoch 12/100\n",
            "71/71 [==============================] - 0s 4ms/step - loss: 0.7817 - accuracy: 0.6347 - val_loss: 0.8172 - val_accuracy: 0.6053\n",
            "Epoch 13/100\n",
            "71/71 [==============================] - 0s 4ms/step - loss: 0.7715 - accuracy: 0.6356 - val_loss: 0.8581 - val_accuracy: 0.5587\n",
            "Epoch 14/100\n",
            "71/71 [==============================] - 0s 4ms/step - loss: 0.7668 - accuracy: 0.6436 - val_loss: 0.8838 - val_accuracy: 0.5493\n",
            "Epoch 15/100\n",
            "71/71 [==============================] - 0s 4ms/step - loss: 0.7598 - accuracy: 0.6489 - val_loss: 0.7879 - val_accuracy: 0.6093\n",
            "Epoch 16/100\n",
            "71/71 [==============================] - 0s 4ms/step - loss: 0.7496 - accuracy: 0.6498 - val_loss: 0.7892 - val_accuracy: 0.6240\n",
            "Epoch 17/100\n",
            "71/71 [==============================] - 0s 4ms/step - loss: 0.7455 - accuracy: 0.6622 - val_loss: 0.9276 - val_accuracy: 0.5413\n",
            "Epoch 18/100\n",
            "71/71 [==============================] - 0s 4ms/step - loss: 0.7427 - accuracy: 0.6578 - val_loss: 0.8700 - val_accuracy: 0.5467\n",
            "Epoch 19/100\n",
            "71/71 [==============================] - 0s 4ms/step - loss: 0.7332 - accuracy: 0.6738 - val_loss: 0.9929 - val_accuracy: 0.5267\n",
            "Epoch 20/100\n",
            "71/71 [==============================] - 0s 4ms/step - loss: 0.7281 - accuracy: 0.6751 - val_loss: 1.0990 - val_accuracy: 0.4960\n",
            "Epoch 21/100\n",
            "71/71 [==============================] - 0s 4ms/step - loss: 0.7257 - accuracy: 0.6724 - val_loss: 0.7705 - val_accuracy: 0.6173\n",
            "Epoch 22/100\n",
            "71/71 [==============================] - 0s 4ms/step - loss: 0.7086 - accuracy: 0.6800 - val_loss: 0.7636 - val_accuracy: 0.6373\n",
            "Epoch 23/100\n",
            "71/71 [==============================] - 0s 4ms/step - loss: 0.7015 - accuracy: 0.6911 - val_loss: 0.7611 - val_accuracy: 0.6240\n",
            "Epoch 24/100\n",
            "71/71 [==============================] - 0s 4ms/step - loss: 0.6967 - accuracy: 0.6809 - val_loss: 0.7678 - val_accuracy: 0.6240\n",
            "Epoch 25/100\n",
            "71/71 [==============================] - 0s 4ms/step - loss: 0.6923 - accuracy: 0.6916 - val_loss: 0.7708 - val_accuracy: 0.6173\n",
            "Epoch 26/100\n",
            "71/71 [==============================] - 0s 4ms/step - loss: 0.6820 - accuracy: 0.6969 - val_loss: 0.7663 - val_accuracy: 0.6173\n",
            "Epoch 27/100\n",
            "71/71 [==============================] - 0s 4ms/step - loss: 0.6813 - accuracy: 0.6978 - val_loss: 0.7481 - val_accuracy: 0.6293\n",
            "Epoch 28/100\n",
            "71/71 [==============================] - 0s 4ms/step - loss: 0.6745 - accuracy: 0.7053 - val_loss: 0.8190 - val_accuracy: 0.6013\n",
            "Epoch 29/100\n",
            "71/71 [==============================] - 0s 4ms/step - loss: 0.6684 - accuracy: 0.6951 - val_loss: 1.1068 - val_accuracy: 0.4827\n",
            "Epoch 30/100\n",
            "71/71 [==============================] - 0s 4ms/step - loss: 0.6643 - accuracy: 0.7142 - val_loss: 0.7341 - val_accuracy: 0.6573\n",
            "Epoch 31/100\n",
            "71/71 [==============================] - 0s 4ms/step - loss: 0.6556 - accuracy: 0.7178 - val_loss: 0.7426 - val_accuracy: 0.6400\n",
            "Epoch 32/100\n",
            "71/71 [==============================] - 0s 4ms/step - loss: 0.6466 - accuracy: 0.7151 - val_loss: 0.9580 - val_accuracy: 0.5147\n",
            "Epoch 33/100\n",
            "71/71 [==============================] - 0s 4ms/step - loss: 0.6445 - accuracy: 0.7222 - val_loss: 0.8574 - val_accuracy: 0.5573\n",
            "Epoch 34/100\n",
            "71/71 [==============================] - 0s 4ms/step - loss: 0.6345 - accuracy: 0.7169 - val_loss: 0.7823 - val_accuracy: 0.6160\n",
            "Epoch 35/100\n",
            "71/71 [==============================] - 0s 4ms/step - loss: 0.6267 - accuracy: 0.7280 - val_loss: 0.7577 - val_accuracy: 0.6133\n",
            "Epoch 36/100\n",
            "71/71 [==============================] - 0s 4ms/step - loss: 0.6190 - accuracy: 0.7391 - val_loss: 0.7166 - val_accuracy: 0.6587\n",
            "Epoch 37/100\n",
            "71/71 [==============================] - 0s 4ms/step - loss: 0.6204 - accuracy: 0.7293 - val_loss: 0.7909 - val_accuracy: 0.6067\n",
            "Epoch 38/100\n",
            "71/71 [==============================] - 0s 4ms/step - loss: 0.6125 - accuracy: 0.7333 - val_loss: 0.7240 - val_accuracy: 0.6507\n",
            "Epoch 39/100\n",
            "71/71 [==============================] - 0s 4ms/step - loss: 0.6067 - accuracy: 0.7373 - val_loss: 0.7904 - val_accuracy: 0.6000\n",
            "Epoch 40/100\n",
            "71/71 [==============================] - 0s 4ms/step - loss: 0.5942 - accuracy: 0.7493 - val_loss: 0.7576 - val_accuracy: 0.6427\n",
            "Epoch 41/100\n",
            "71/71 [==============================] - 0s 4ms/step - loss: 0.5895 - accuracy: 0.7533 - val_loss: 0.7121 - val_accuracy: 0.6813\n",
            "Epoch 42/100\n",
            "71/71 [==============================] - 0s 4ms/step - loss: 0.5916 - accuracy: 0.7520 - val_loss: 0.7075 - val_accuracy: 0.6600\n",
            "Epoch 43/100\n",
            "71/71 [==============================] - 0s 4ms/step - loss: 0.5831 - accuracy: 0.7560 - val_loss: 0.7905 - val_accuracy: 0.5853\n",
            "Epoch 44/100\n",
            "71/71 [==============================] - 0s 4ms/step - loss: 0.5696 - accuracy: 0.7591 - val_loss: 0.7413 - val_accuracy: 0.6160\n",
            "Epoch 45/100\n",
            "71/71 [==============================] - 0s 4ms/step - loss: 0.5687 - accuracy: 0.7662 - val_loss: 0.7238 - val_accuracy: 0.6600\n",
            "Epoch 46/100\n",
            "71/71 [==============================] - 0s 4ms/step - loss: 0.5631 - accuracy: 0.7676 - val_loss: 0.9161 - val_accuracy: 0.5853\n",
            "Epoch 47/100\n",
            "71/71 [==============================] - 0s 4ms/step - loss: 0.5653 - accuracy: 0.7671 - val_loss: 0.7094 - val_accuracy: 0.6467\n",
            "Epoch 48/100\n",
            "71/71 [==============================] - 0s 4ms/step - loss: 0.5566 - accuracy: 0.7729 - val_loss: 0.6934 - val_accuracy: 0.6747\n",
            "Epoch 49/100\n",
            "71/71 [==============================] - 0s 4ms/step - loss: 0.5465 - accuracy: 0.7760 - val_loss: 0.6913 - val_accuracy: 0.6773\n",
            "Epoch 50/100\n",
            "71/71 [==============================] - 0s 4ms/step - loss: 0.5437 - accuracy: 0.7853 - val_loss: 0.6838 - val_accuracy: 0.7027\n",
            "Epoch 51/100\n",
            "71/71 [==============================] - 0s 4ms/step - loss: 0.5399 - accuracy: 0.7796 - val_loss: 0.7525 - val_accuracy: 0.6227\n",
            "Epoch 52/100\n",
            "71/71 [==============================] - 0s 4ms/step - loss: 0.5302 - accuracy: 0.7876 - val_loss: 0.7058 - val_accuracy: 0.6560\n",
            "Epoch 53/100\n",
            "71/71 [==============================] - 0s 4ms/step - loss: 0.5245 - accuracy: 0.7947 - val_loss: 0.6891 - val_accuracy: 0.6720\n",
            "Epoch 54/100\n",
            "71/71 [==============================] - 0s 4ms/step - loss: 0.5266 - accuracy: 0.7947 - val_loss: 0.6843 - val_accuracy: 0.7013\n",
            "Epoch 55/100\n",
            "71/71 [==============================] - 0s 4ms/step - loss: 0.5119 - accuracy: 0.8000 - val_loss: 0.7508 - val_accuracy: 0.6160\n",
            "Epoch 56/100\n",
            "71/71 [==============================] - 0s 4ms/step - loss: 0.5156 - accuracy: 0.7920 - val_loss: 0.6865 - val_accuracy: 0.6760\n",
            "Epoch 57/100\n",
            "71/71 [==============================] - 0s 4ms/step - loss: 0.5066 - accuracy: 0.8004 - val_loss: 0.6852 - val_accuracy: 0.6733\n",
            "Epoch 58/100\n",
            "71/71 [==============================] - 0s 4ms/step - loss: 0.5021 - accuracy: 0.8031 - val_loss: 0.7313 - val_accuracy: 0.6387\n",
            "Epoch 59/100\n",
            "71/71 [==============================] - 0s 4ms/step - loss: 0.4972 - accuracy: 0.8053 - val_loss: 0.6886 - val_accuracy: 0.6720\n",
            "Epoch 60/100\n",
            "71/71 [==============================] - 0s 4ms/step - loss: 0.4962 - accuracy: 0.8138 - val_loss: 0.9520 - val_accuracy: 0.5893\n",
            "Epoch 61/100\n",
            "71/71 [==============================] - 0s 4ms/step - loss: 0.4840 - accuracy: 0.8156 - val_loss: 0.6734 - val_accuracy: 0.6840\n",
            "Epoch 62/100\n",
            "71/71 [==============================] - 0s 4ms/step - loss: 0.4838 - accuracy: 0.8142 - val_loss: 0.7846 - val_accuracy: 0.6027\n",
            "Epoch 63/100\n",
            "71/71 [==============================] - 0s 4ms/step - loss: 0.4789 - accuracy: 0.8138 - val_loss: 0.6869 - val_accuracy: 0.6667\n",
            "Epoch 64/100\n",
            "71/71 [==============================] - 0s 4ms/step - loss: 0.4776 - accuracy: 0.8147 - val_loss: 0.6616 - val_accuracy: 0.6947\n",
            "Epoch 65/100\n",
            "71/71 [==============================] - 0s 4ms/step - loss: 0.4665 - accuracy: 0.8196 - val_loss: 0.8517 - val_accuracy: 0.6187\n",
            "Epoch 66/100\n",
            "71/71 [==============================] - 0s 4ms/step - loss: 0.4694 - accuracy: 0.8147 - val_loss: 0.7649 - val_accuracy: 0.6187\n",
            "Epoch 67/100\n",
            "71/71 [==============================] - 0s 4ms/step - loss: 0.4709 - accuracy: 0.8240 - val_loss: 0.7151 - val_accuracy: 0.6520\n",
            "Epoch 68/100\n",
            "71/71 [==============================] - 0s 4ms/step - loss: 0.4605 - accuracy: 0.8280 - val_loss: 0.7159 - val_accuracy: 0.6680\n",
            "Epoch 69/100\n",
            "71/71 [==============================] - 0s 4ms/step - loss: 0.4532 - accuracy: 0.8333 - val_loss: 0.7241 - val_accuracy: 0.6427\n",
            "Epoch 70/100\n",
            "71/71 [==============================] - 0s 4ms/step - loss: 0.4505 - accuracy: 0.8298 - val_loss: 0.6834 - val_accuracy: 0.6680\n",
            "Epoch 71/100\n",
            "71/71 [==============================] - 0s 4ms/step - loss: 0.4441 - accuracy: 0.8271 - val_loss: 0.7571 - val_accuracy: 0.6307\n",
            "Epoch 72/100\n",
            "71/71 [==============================] - 0s 4ms/step - loss: 0.4468 - accuracy: 0.8276 - val_loss: 0.7683 - val_accuracy: 0.6347\n",
            "Epoch 73/100\n",
            "71/71 [==============================] - 0s 4ms/step - loss: 0.4407 - accuracy: 0.8311 - val_loss: 0.6907 - val_accuracy: 0.6787\n",
            "Epoch 74/100\n",
            "71/71 [==============================] - 0s 4ms/step - loss: 0.4336 - accuracy: 0.8436 - val_loss: 0.6768 - val_accuracy: 0.6747\n",
            "Epoch 75/100\n",
            "71/71 [==============================] - 0s 4ms/step - loss: 0.4275 - accuracy: 0.8418 - val_loss: 0.7641 - val_accuracy: 0.6480\n",
            "Epoch 76/100\n",
            "71/71 [==============================] - 0s 4ms/step - loss: 0.4247 - accuracy: 0.8476 - val_loss: 0.6770 - val_accuracy: 0.6853\n",
            "Epoch 77/100\n",
            "71/71 [==============================] - 0s 4ms/step - loss: 0.4274 - accuracy: 0.8387 - val_loss: 0.6835 - val_accuracy: 0.7027\n",
            "Epoch 78/100\n",
            "71/71 [==============================] - 0s 4ms/step - loss: 0.4165 - accuracy: 0.8458 - val_loss: 0.6643 - val_accuracy: 0.6867\n",
            "Epoch 79/100\n",
            "71/71 [==============================] - 0s 4ms/step - loss: 0.4187 - accuracy: 0.8404 - val_loss: 0.7029 - val_accuracy: 0.6613\n",
            "Epoch 80/100\n",
            "71/71 [==============================] - 0s 4ms/step - loss: 0.4105 - accuracy: 0.8524 - val_loss: 0.6742 - val_accuracy: 0.6693\n",
            "Epoch 81/100\n",
            "71/71 [==============================] - 0s 4ms/step - loss: 0.4097 - accuracy: 0.8467 - val_loss: 0.6874 - val_accuracy: 0.6747\n",
            "Epoch 82/100\n",
            "71/71 [==============================] - 0s 4ms/step - loss: 0.4090 - accuracy: 0.8507 - val_loss: 0.7075 - val_accuracy: 0.6947\n",
            "Epoch 83/100\n",
            "71/71 [==============================] - 0s 4ms/step - loss: 0.3985 - accuracy: 0.8516 - val_loss: 0.6454 - val_accuracy: 0.6987\n",
            "Epoch 84/100\n",
            "71/71 [==============================] - 0s 4ms/step - loss: 0.3949 - accuracy: 0.8569 - val_loss: 0.6932 - val_accuracy: 0.6773\n",
            "Epoch 85/100\n",
            "71/71 [==============================] - 0s 4ms/step - loss: 0.4006 - accuracy: 0.8596 - val_loss: 0.7826 - val_accuracy: 0.6333\n",
            "Epoch 86/100\n",
            "71/71 [==============================] - 0s 4ms/step - loss: 0.3987 - accuracy: 0.8502 - val_loss: 0.6679 - val_accuracy: 0.6867\n",
            "Epoch 87/100\n",
            "71/71 [==============================] - 0s 4ms/step - loss: 0.3883 - accuracy: 0.8644 - val_loss: 0.6612 - val_accuracy: 0.6960\n",
            "Epoch 88/100\n",
            "71/71 [==============================] - 0s 4ms/step - loss: 0.3797 - accuracy: 0.8644 - val_loss: 0.6689 - val_accuracy: 0.7013\n",
            "Epoch 89/100\n",
            "71/71 [==============================] - 0s 4ms/step - loss: 0.3860 - accuracy: 0.8578 - val_loss: 0.6887 - val_accuracy: 0.6747\n",
            "Epoch 90/100\n",
            "71/71 [==============================] - 0s 4ms/step - loss: 0.3765 - accuracy: 0.8604 - val_loss: 0.6884 - val_accuracy: 0.6760\n",
            "Epoch 91/100\n",
            "71/71 [==============================] - 0s 4ms/step - loss: 0.3718 - accuracy: 0.8684 - val_loss: 0.6682 - val_accuracy: 0.6760\n",
            "Epoch 92/100\n",
            "71/71 [==============================] - 0s 4ms/step - loss: 0.3732 - accuracy: 0.8689 - val_loss: 0.6887 - val_accuracy: 0.6960\n",
            "Epoch 93/100\n",
            "71/71 [==============================] - 0s 4ms/step - loss: 0.3665 - accuracy: 0.8680 - val_loss: 0.6931 - val_accuracy: 0.7040\n",
            "Epoch 94/100\n",
            "71/71 [==============================] - 0s 4ms/step - loss: 0.3595 - accuracy: 0.8831 - val_loss: 0.6727 - val_accuracy: 0.6893\n",
            "Epoch 95/100\n",
            "71/71 [==============================] - 0s 4ms/step - loss: 0.3682 - accuracy: 0.8698 - val_loss: 0.6641 - val_accuracy: 0.6933\n",
            "Epoch 96/100\n",
            "71/71 [==============================] - 0s 4ms/step - loss: 0.3573 - accuracy: 0.8707 - val_loss: 0.7112 - val_accuracy: 0.6747\n",
            "Epoch 97/100\n",
            "71/71 [==============================] - 0s 4ms/step - loss: 0.3516 - accuracy: 0.8764 - val_loss: 0.7391 - val_accuracy: 0.6573\n",
            "Epoch 98/100\n",
            "71/71 [==============================] - 0s 4ms/step - loss: 0.3544 - accuracy: 0.8733 - val_loss: 0.6817 - val_accuracy: 0.6800\n",
            "Epoch 99/100\n",
            "71/71 [==============================] - 0s 4ms/step - loss: 0.3513 - accuracy: 0.8804 - val_loss: 0.6671 - val_accuracy: 0.6973\n",
            "Epoch 100/100\n",
            "71/71 [==============================] - 0s 4ms/step - loss: 0.3513 - accuracy: 0.8751 - val_loss: 0.7017 - val_accuracy: 0.7000\n"
          ],
          "name": "stdout"
        }
      ]
    },
    {
      "cell_type": "code",
      "metadata": {
        "id": "qH9SDbuAiYsf",
        "colab": {
          "base_uri": "https://localhost:8080/"
        },
        "outputId": "4181a9ec-fc17-41e0-b676-99ebfebcefe7"
      },
      "source": [
        "# evaluate the network\n",
        "print(\"[INFO] evaluating network...\")\n",
        "predictions = model.predict(testX, batch_size=32)\n",
        "print(classification_report(testY.argmax(axis=1),\n",
        "\tpredictions.argmax(axis=1),\n",
        "\ttarget_names=[\"cat\", \"dog\", \"panda\"]))"
      ],
      "execution_count": 9,
      "outputs": [
        {
          "output_type": "stream",
          "text": [
            "[INFO] evaluating network...\n",
            "              precision    recall  f1-score   support\n",
            "\n",
            "         cat       0.70      0.65      0.68       262\n",
            "         dog       0.65      0.53      0.58       249\n",
            "       panda       0.73      0.93      0.82       239\n",
            "\n",
            "    accuracy                           0.70       750\n",
            "   macro avg       0.69      0.70      0.69       750\n",
            "weighted avg       0.69      0.70      0.69       750\n",
            "\n"
          ],
          "name": "stdout"
        }
      ]
    },
    {
      "cell_type": "code",
      "metadata": {
        "id": "0XAPvYEiibaN",
        "colab": {
          "base_uri": "https://localhost:8080/",
          "height": 299
        },
        "outputId": "59ed0052-2422-4f75-85bb-615089ad420b"
      },
      "source": [
        "plt.style.use(\"ggplot\")\n",
        "plt.figure()\n",
        "plt.plot(np.arange(0, 100), H.history[\"loss\"], label=\"train_loss\")\n",
        "plt.plot(np.arange(0, 100), H.history[\"val_loss\"], label=\"val_loss\")\n",
        "plt.plot(np.arange(0, 100), H.history[\"accuracy\"], label=\"train_acc\")\n",
        "plt.plot(np.arange(0, 100), H.history[\"val_accuracy\"], label=\"val_acc\")\n",
        "plt.title(\"Training Loss and Accuracy\")\n",
        "plt.xlabel(\"Epoch #\")\n",
        "plt.ylabel(\"Loss/Accuracy\")\n",
        "plt.legend()\n",
        "plt.show()"
      ],
      "execution_count": 10,
      "outputs": [
        {
          "output_type": "display_data",
          "data": {
            "image/png": "[encoded data removed]",
            "text/plain": [
              "<Figure size 432x288 with 1 Axes>"
            ]
          },
          "metadata": {
            "tags": []
          }
        }
      ]
    },
    {
      "cell_type": "code",
      "metadata": {
        "id": "JhioebhWidn-",
        "colab": {
          "base_uri": "https://localhost:8080/"
        },
        "outputId": "ba82a5dc-0698-4c77-f106-8536d9249185"
      },
      "source": [
        "# load the training and testing data, then scale it into the\n",
        "# range [0, 1]\n",
        "print(\"[INFO] loading CIFAR-10 data...\")\n",
        "((trainX, trainY), (testX, testY)) = cifar10.load_data()\n",
        "trainX = trainX.astype(\"float\") / 255.0\n",
        "testX = testX.astype(\"float\") / 255.0\n",
        "\n",
        "# convert the labels from integers to vectors\n",
        "lb = LabelBinarizer()\n",
        "trainY = lb.fit_transform(trainY)\n",
        "testY = lb.transform(testY)\n",
        "\n",
        "# initialize the label names for the CIFAR-10 dataset\n",
        "labelNames = [\"airplane\", \"automobile\", \"bird\", \"cat\", \"deer\",\n",
        "\t\"dog\", \"frog\", \"horse\", \"ship\", \"truck\"]"
      ],
      "execution_count": 11,
      "outputs": [
        {
          "output_type": "stream",
          "text": [
            "[INFO] loading CIFAR-10 data...\n",
            "Downloading data from https://www.cs.toronto.edu/~kriz/cifar-10-python.tar.gz\n",
            "170500096/170498071 [==============================] - 4s 0us/step\n"
          ],
          "name": "stdout"
        }
      ]
    },
    {
      "cell_type": "code",
      "metadata": {
        "id": "-houRI12irVW",
        "colab": {
          "base_uri": "https://localhost:8080/"
        },
        "outputId": "cc49db94-fc5c-4e80-c658-7441b3a3b76d"
      },
      "source": [
        "# initialize the optimizer and model\n",
        "print(\"[INFO] compiling model...\")\n",
        "opt = SGD(lr=0.001)\n",
        "model = ShallowNet.build(width=32, height=32, depth=3, classes=10)\n",
        "model.compile(loss=\"categorical_crossentropy\", optimizer=opt,\n",
        "\tmetrics=[\"accuracy\"])\n",
        "\n",
        "# train the network\n",
        "print(\"[INFO] training network...\")\n",
        "H = model.fit(trainX, trainY, validation_data=(testX, testY),\n",
        "\tbatch_size=32, epochs=100, verbose=1)"
      ],
      "execution_count": 15,
      "outputs": [
        {
          "output_type": "stream",
          "text": [
            "[INFO] compiling model...\n",
            "[INFO] training network...\n"
          ],
          "name": "stdout"
        },
        {
          "output_type": "stream",
          "text": [
            "/usr/local/lib/python3.7/dist-packages/tensorflow/python/keras/optimizer_v2/optimizer_v2.py:375: UserWarning: The `lr` argument is deprecated, use `learning_rate` instead.\n",
            "  \"The `lr` argument is deprecated, use `learning_rate` instead.\")\n"
          ],
          "name": "stderr"
        },
        {
          "output_type": "stream",
          "text": [
            "Epoch 1/100\n",
            "1563/1563 [==============================] - 6s 4ms/step - loss: 2.0768 - accuracy: 0.2671 - val_loss: 1.9309 - val_accuracy: 0.3364\n",
            "Epoch 2/100\n",
            "1563/1563 [==============================] - 6s 4ms/step - loss: 1.8812 - accuracy: 0.3474 - val_loss: 1.8498 - val_accuracy: 0.3586\n",
            "Epoch 3/100\n",
            "1563/1563 [==============================] - 5s 4ms/step - loss: 1.8165 - accuracy: 0.3711 - val_loss: 1.7914 - val_accuracy: 0.3774\n",
            "Epoch 4/100\n",
            "1563/1563 [==============================] - 6s 4ms/step - loss: 1.7735 - accuracy: 0.3877 - val_loss: 1.7560 - val_accuracy: 0.3925\n",
            "Epoch 5/100\n",
            "1563/1563 [==============================] - 5s 4ms/step - loss: 1.7411 - accuracy: 0.4008 - val_loss: 1.7301 - val_accuracy: 0.3970\n",
            "Epoch 6/100\n",
            "1563/1563 [==============================] - 5s 3ms/step - loss: 1.7135 - accuracy: 0.4083 - val_loss: 1.7035 - val_accuracy: 0.4116\n",
            "Epoch 7/100\n",
            "1563/1563 [==============================] - 5s 3ms/step - loss: 1.6899 - accuracy: 0.4183 - val_loss: 1.6808 - val_accuracy: 0.4198\n",
            "Epoch 8/100\n",
            "1563/1563 [==============================] - 5s 3ms/step - loss: 1.6656 - accuracy: 0.4285 - val_loss: 1.6631 - val_accuracy: 0.4273\n",
            "Epoch 9/100\n",
            "1563/1563 [==============================] - 5s 3ms/step - loss: 1.6432 - accuracy: 0.4362 - val_loss: 1.6434 - val_accuracy: 0.4273\n",
            "Epoch 10/100\n",
            "1563/1563 [==============================] - 5s 3ms/step - loss: 1.6209 - accuracy: 0.4440 - val_loss: 1.6239 - val_accuracy: 0.4316\n",
            "Epoch 11/100\n",
            "1563/1563 [==============================] - 5s 3ms/step - loss: 1.5974 - accuracy: 0.4516 - val_loss: 1.5936 - val_accuracy: 0.4459\n",
            "Epoch 12/100\n",
            "1563/1563 [==============================] - 5s 3ms/step - loss: 1.5749 - accuracy: 0.4604 - val_loss: 1.5724 - val_accuracy: 0.4535\n",
            "Epoch 13/100\n",
            "1563/1563 [==============================] - 5s 3ms/step - loss: 1.5514 - accuracy: 0.4690 - val_loss: 1.5535 - val_accuracy: 0.4605\n",
            "Epoch 14/100\n",
            "1563/1563 [==============================] - 6s 4ms/step - loss: 1.5280 - accuracy: 0.4755 - val_loss: 1.5304 - val_accuracy: 0.4629\n",
            "Epoch 15/100\n",
            "1563/1563 [==============================] - 6s 4ms/step - loss: 1.5053 - accuracy: 0.4850 - val_loss: 1.5213 - val_accuracy: 0.4701\n",
            "Epoch 16/100\n",
            "1563/1563 [==============================] - 6s 4ms/step - loss: 1.4833 - accuracy: 0.4902 - val_loss: 1.4932 - val_accuracy: 0.4803\n",
            "Epoch 17/100\n",
            "1563/1563 [==============================] - 6s 4ms/step - loss: 1.4615 - accuracy: 0.4998 - val_loss: 1.4705 - val_accuracy: 0.4924\n",
            "Epoch 18/100\n",
            "1563/1563 [==============================] - 5s 3ms/step - loss: 1.4396 - accuracy: 0.5055 - val_loss: 1.4528 - val_accuracy: 0.4948\n",
            "Epoch 19/100\n",
            "1563/1563 [==============================] - 5s 3ms/step - loss: 1.4201 - accuracy: 0.5132 - val_loss: 1.4341 - val_accuracy: 0.4982\n",
            "Epoch 20/100\n",
            "1563/1563 [==============================] - 5s 3ms/step - loss: 1.4013 - accuracy: 0.5204 - val_loss: 1.4194 - val_accuracy: 0.5058\n",
            "Epoch 21/100\n",
            "1563/1563 [==============================] - 5s 3ms/step - loss: 1.3834 - accuracy: 0.5251 - val_loss: 1.4086 - val_accuracy: 0.5085\n",
            "Epoch 22/100\n",
            "1563/1563 [==============================] - 5s 3ms/step - loss: 1.3662 - accuracy: 0.5304 - val_loss: 1.4012 - val_accuracy: 0.5106\n",
            "Epoch 23/100\n",
            "1563/1563 [==============================] - 5s 3ms/step - loss: 1.3506 - accuracy: 0.5355 - val_loss: 1.3732 - val_accuracy: 0.5193\n",
            "Epoch 24/100\n",
            "1563/1563 [==============================] - 5s 3ms/step - loss: 1.3368 - accuracy: 0.5386 - val_loss: 1.3748 - val_accuracy: 0.5216\n",
            "Epoch 25/100\n",
            "1563/1563 [==============================] - 5s 3ms/step - loss: 1.3230 - accuracy: 0.5449 - val_loss: 1.3554 - val_accuracy: 0.5234\n",
            "Epoch 26/100\n",
            "1563/1563 [==============================] - 6s 4ms/step - loss: 1.3106 - accuracy: 0.5476 - val_loss: 1.3512 - val_accuracy: 0.5277\n",
            "Epoch 27/100\n",
            "1563/1563 [==============================] - 6s 4ms/step - loss: 1.2999 - accuracy: 0.5519 - val_loss: 1.3385 - val_accuracy: 0.5300\n",
            "Epoch 28/100\n",
            "1563/1563 [==============================] - 6s 4ms/step - loss: 1.2891 - accuracy: 0.5556 - val_loss: 1.3277 - val_accuracy: 0.5354\n",
            "Epoch 29/100\n",
            "1563/1563 [==============================] - 6s 4ms/step - loss: 1.2792 - accuracy: 0.5595 - val_loss: 1.3215 - val_accuracy: 0.5336\n",
            "Epoch 30/100\n",
            "1563/1563 [==============================] - 5s 3ms/step - loss: 1.2699 - accuracy: 0.5621 - val_loss: 1.3161 - val_accuracy: 0.5386\n",
            "Epoch 31/100\n",
            "1563/1563 [==============================] - 5s 3ms/step - loss: 1.2611 - accuracy: 0.5661 - val_loss: 1.3085 - val_accuracy: 0.5417\n",
            "Epoch 32/100\n",
            "1563/1563 [==============================] - 6s 4ms/step - loss: 1.2530 - accuracy: 0.5691 - val_loss: 1.3165 - val_accuracy: 0.5320\n",
            "Epoch 33/100\n",
            "1563/1563 [==============================] - 6s 4ms/step - loss: 1.2452 - accuracy: 0.5698 - val_loss: 1.3053 - val_accuracy: 0.5365\n",
            "Epoch 34/100\n",
            "1563/1563 [==============================] - 6s 4ms/step - loss: 1.2379 - accuracy: 0.5736 - val_loss: 1.2954 - val_accuracy: 0.5465\n",
            "Epoch 35/100\n",
            "1563/1563 [==============================] - 6s 4ms/step - loss: 1.2312 - accuracy: 0.5741 - val_loss: 1.2955 - val_accuracy: 0.5467\n",
            "Epoch 36/100\n",
            "1563/1563 [==============================] - 5s 3ms/step - loss: 1.2243 - accuracy: 0.5775 - val_loss: 1.3050 - val_accuracy: 0.5381\n",
            "Epoch 37/100\n",
            "1563/1563 [==============================] - 5s 3ms/step - loss: 1.2185 - accuracy: 0.5790 - val_loss: 1.2813 - val_accuracy: 0.5476\n",
            "Epoch 38/100\n",
            "1563/1563 [==============================] - 5s 3ms/step - loss: 1.2124 - accuracy: 0.5813 - val_loss: 1.2799 - val_accuracy: 0.5434\n",
            "Epoch 39/100\n",
            "1563/1563 [==============================] - 5s 3ms/step - loss: 1.2064 - accuracy: 0.5841 - val_loss: 1.2755 - val_accuracy: 0.5491\n",
            "Epoch 40/100\n",
            "1563/1563 [==============================] - 5s 3ms/step - loss: 1.2008 - accuracy: 0.5846 - val_loss: 1.2734 - val_accuracy: 0.5516\n",
            "Epoch 41/100\n",
            "1563/1563 [==============================] - 5s 3ms/step - loss: 1.1961 - accuracy: 0.5871 - val_loss: 1.2758 - val_accuracy: 0.5470\n",
            "Epoch 42/100\n",
            "1563/1563 [==============================] - 5s 3ms/step - loss: 1.1912 - accuracy: 0.5880 - val_loss: 1.2668 - val_accuracy: 0.5545\n",
            "Epoch 43/100\n",
            "1563/1563 [==============================] - 5s 3ms/step - loss: 1.1860 - accuracy: 0.5910 - val_loss: 1.2666 - val_accuracy: 0.5534\n",
            "Epoch 44/100\n",
            "1563/1563 [==============================] - 5s 3ms/step - loss: 1.1809 - accuracy: 0.5926 - val_loss: 1.2618 - val_accuracy: 0.5551\n",
            "Epoch 45/100\n",
            "1563/1563 [==============================] - 6s 4ms/step - loss: 1.1767 - accuracy: 0.5938 - val_loss: 1.2651 - val_accuracy: 0.5535\n",
            "Epoch 46/100\n",
            "1563/1563 [==============================] - 6s 4ms/step - loss: 1.1715 - accuracy: 0.5952 - val_loss: 1.2570 - val_accuracy: 0.5579\n",
            "Epoch 47/100\n",
            "1563/1563 [==============================] - 6s 4ms/step - loss: 1.1678 - accuracy: 0.5984 - val_loss: 1.2605 - val_accuracy: 0.5558\n",
            "Epoch 48/100\n",
            "1563/1563 [==============================] - 5s 3ms/step - loss: 1.1637 - accuracy: 0.5991 - val_loss: 1.2602 - val_accuracy: 0.5537\n",
            "Epoch 49/100\n",
            "1563/1563 [==============================] - 5s 3ms/step - loss: 1.1593 - accuracy: 0.6004 - val_loss: 1.2645 - val_accuracy: 0.5491\n",
            "Epoch 50/100\n",
            "1563/1563 [==============================] - 5s 3ms/step - loss: 1.1556 - accuracy: 0.6018 - val_loss: 1.2535 - val_accuracy: 0.5566\n",
            "Epoch 51/100\n",
            "1563/1563 [==============================] - 6s 4ms/step - loss: 1.1514 - accuracy: 0.6049 - val_loss: 1.2455 - val_accuracy: 0.5581\n",
            "Epoch 52/100\n",
            "1563/1563 [==============================] - 5s 3ms/step - loss: 1.1478 - accuracy: 0.6040 - val_loss: 1.2428 - val_accuracy: 0.5611\n",
            "Epoch 53/100\n",
            "1563/1563 [==============================] - 5s 3ms/step - loss: 1.1442 - accuracy: 0.6056 - val_loss: 1.2422 - val_accuracy: 0.5612\n",
            "Epoch 54/100\n",
            "1563/1563 [==============================] - 5s 3ms/step - loss: 1.1388 - accuracy: 0.6072 - val_loss: 1.2449 - val_accuracy: 0.5628\n",
            "Epoch 55/100\n",
            "1563/1563 [==============================] - 5s 3ms/step - loss: 1.1360 - accuracy: 0.6075 - val_loss: 1.2494 - val_accuracy: 0.5613\n",
            "Epoch 56/100\n",
            "1563/1563 [==============================] - 5s 3ms/step - loss: 1.1325 - accuracy: 0.6095 - val_loss: 1.2479 - val_accuracy: 0.5551\n",
            "Epoch 57/100\n",
            "1563/1563 [==============================] - 6s 4ms/step - loss: 1.1291 - accuracy: 0.6091 - val_loss: 1.2417 - val_accuracy: 0.5619\n",
            "Epoch 58/100\n",
            "1563/1563 [==============================] - 6s 4ms/step - loss: 1.1257 - accuracy: 0.6119 - val_loss: 1.2525 - val_accuracy: 0.5572\n",
            "Epoch 59/100\n",
            "1563/1563 [==============================] - 6s 4ms/step - loss: 1.1221 - accuracy: 0.6137 - val_loss: 1.2298 - val_accuracy: 0.5671\n",
            "Epoch 60/100\n",
            "1563/1563 [==============================] - 6s 4ms/step - loss: 1.1183 - accuracy: 0.6151 - val_loss: 1.2353 - val_accuracy: 0.5629\n",
            "Epoch 61/100\n",
            "1563/1563 [==============================] - 5s 3ms/step - loss: 1.1151 - accuracy: 0.6161 - val_loss: 1.2384 - val_accuracy: 0.5618\n",
            "Epoch 62/100\n",
            "1563/1563 [==============================] - 5s 3ms/step - loss: 1.1111 - accuracy: 0.6161 - val_loss: 1.2306 - val_accuracy: 0.5695\n",
            "Epoch 63/100\n",
            "1563/1563 [==============================] - 5s 3ms/step - loss: 1.1078 - accuracy: 0.6201 - val_loss: 1.2288 - val_accuracy: 0.5682\n",
            "Epoch 64/100\n",
            "1563/1563 [==============================] - 5s 3ms/step - loss: 1.1042 - accuracy: 0.6200 - val_loss: 1.2276 - val_accuracy: 0.5724\n",
            "Epoch 65/100\n",
            "1563/1563 [==============================] - 5s 3ms/step - loss: 1.1012 - accuracy: 0.6219 - val_loss: 1.2313 - val_accuracy: 0.5695\n",
            "Epoch 66/100\n",
            "1563/1563 [==============================] - 5s 3ms/step - loss: 1.0981 - accuracy: 0.6226 - val_loss: 1.2202 - val_accuracy: 0.5725\n",
            "Epoch 67/100\n",
            "1563/1563 [==============================] - 5s 3ms/step - loss: 1.0949 - accuracy: 0.6234 - val_loss: 1.2232 - val_accuracy: 0.5741\n",
            "Epoch 68/100\n",
            "1563/1563 [==============================] - 5s 3ms/step - loss: 1.0913 - accuracy: 0.6231 - val_loss: 1.2251 - val_accuracy: 0.5690\n",
            "Epoch 69/100\n",
            "1563/1563 [==============================] - 6s 4ms/step - loss: 1.0882 - accuracy: 0.6247 - val_loss: 1.2216 - val_accuracy: 0.5689\n",
            "Epoch 70/100\n",
            "1563/1563 [==============================] - 6s 4ms/step - loss: 1.0847 - accuracy: 0.6263 - val_loss: 1.2210 - val_accuracy: 0.5713\n",
            "Epoch 71/100\n",
            "1563/1563 [==============================] - 6s 4ms/step - loss: 1.0813 - accuracy: 0.6274 - val_loss: 1.2157 - val_accuracy: 0.5759\n",
            "Epoch 72/100\n",
            "1563/1563 [==============================] - 6s 4ms/step - loss: 1.0778 - accuracy: 0.6293 - val_loss: 1.2269 - val_accuracy: 0.5635\n",
            "Epoch 73/100\n",
            "1563/1563 [==============================] - 5s 3ms/step - loss: 1.0745 - accuracy: 0.6309 - val_loss: 1.2144 - val_accuracy: 0.5755\n",
            "Epoch 74/100\n",
            "1563/1563 [==============================] - 5s 3ms/step - loss: 1.0715 - accuracy: 0.6322 - val_loss: 1.2128 - val_accuracy: 0.5726\n",
            "Epoch 75/100\n",
            "1563/1563 [==============================] - 5s 3ms/step - loss: 1.0674 - accuracy: 0.6334 - val_loss: 1.2217 - val_accuracy: 0.5701\n",
            "Epoch 76/100\n",
            "1563/1563 [==============================] - 5s 3ms/step - loss: 1.0647 - accuracy: 0.6354 - val_loss: 1.2175 - val_accuracy: 0.5741\n",
            "Epoch 77/100\n",
            "1563/1563 [==============================] - 5s 3ms/step - loss: 1.0618 - accuracy: 0.6353 - val_loss: 1.2157 - val_accuracy: 0.5715\n",
            "Epoch 78/100\n",
            "1563/1563 [==============================] - 5s 3ms/step - loss: 1.0590 - accuracy: 0.6367 - val_loss: 1.2120 - val_accuracy: 0.5754\n",
            "Epoch 79/100\n",
            "1563/1563 [==============================] - 5s 3ms/step - loss: 1.0557 - accuracy: 0.6382 - val_loss: 1.2197 - val_accuracy: 0.5750\n",
            "Epoch 80/100\n",
            "1563/1563 [==============================] - 5s 3ms/step - loss: 1.0527 - accuracy: 0.6380 - val_loss: 1.2169 - val_accuracy: 0.5742\n",
            "Epoch 81/100\n",
            "1563/1563 [==============================] - 6s 4ms/step - loss: 1.0494 - accuracy: 0.6383 - val_loss: 1.2080 - val_accuracy: 0.5767\n",
            "Epoch 82/100\n",
            "1563/1563 [==============================] - 6s 4ms/step - loss: 1.0464 - accuracy: 0.6392 - val_loss: 1.2138 - val_accuracy: 0.5739\n",
            "Epoch 83/100\n",
            "1563/1563 [==============================] - 6s 4ms/step - loss: 1.0431 - accuracy: 0.6421 - val_loss: 1.2075 - val_accuracy: 0.5812\n",
            "Epoch 84/100\n",
            "1563/1563 [==============================] - 6s 4ms/step - loss: 1.0406 - accuracy: 0.6414 - val_loss: 1.1985 - val_accuracy: 0.5813\n",
            "Epoch 85/100\n",
            "1563/1563 [==============================] - 6s 4ms/step - loss: 1.0375 - accuracy: 0.6433 - val_loss: 1.2054 - val_accuracy: 0.5760\n",
            "Epoch 86/100\n",
            "1563/1563 [==============================] - 5s 3ms/step - loss: 1.0344 - accuracy: 0.6432 - val_loss: 1.2042 - val_accuracy: 0.5749\n",
            "Epoch 87/100\n",
            "1563/1563 [==============================] - 6s 4ms/step - loss: 1.0317 - accuracy: 0.6459 - val_loss: 1.2018 - val_accuracy: 0.5758\n",
            "Epoch 88/100\n",
            "1563/1563 [==============================] - 6s 4ms/step - loss: 1.0280 - accuracy: 0.6461 - val_loss: 1.2003 - val_accuracy: 0.5783\n",
            "Epoch 89/100\n",
            "1563/1563 [==============================] - 6s 4ms/step - loss: 1.0248 - accuracy: 0.6472 - val_loss: 1.2121 - val_accuracy: 0.5738\n",
            "Epoch 90/100\n",
            "1563/1563 [==============================] - 6s 4ms/step - loss: 1.0225 - accuracy: 0.6486 - val_loss: 1.1985 - val_accuracy: 0.5793\n",
            "Epoch 91/100\n",
            "1563/1563 [==============================] - 5s 3ms/step - loss: 1.0188 - accuracy: 0.6499 - val_loss: 1.1917 - val_accuracy: 0.5846\n",
            "Epoch 92/100\n",
            "1563/1563 [==============================] - 5s 3ms/step - loss: 1.0161 - accuracy: 0.6513 - val_loss: 1.1958 - val_accuracy: 0.5823\n",
            "Epoch 93/100\n",
            "1563/1563 [==============================] - 5s 3ms/step - loss: 1.0131 - accuracy: 0.6524 - val_loss: 1.1992 - val_accuracy: 0.5818\n",
            "Epoch 94/100\n",
            "1563/1563 [==============================] - 5s 3ms/step - loss: 1.0101 - accuracy: 0.6530 - val_loss: 1.1913 - val_accuracy: 0.5817\n",
            "Epoch 95/100\n",
            "1563/1563 [==============================] - 5s 3ms/step - loss: 1.0069 - accuracy: 0.6557 - val_loss: 1.1989 - val_accuracy: 0.5874\n",
            "Epoch 96/100\n",
            "1563/1563 [==============================] - 5s 3ms/step - loss: 1.0045 - accuracy: 0.6577 - val_loss: 1.1888 - val_accuracy: 0.5811\n",
            "Epoch 97/100\n",
            "1563/1563 [==============================] - 5s 3ms/step - loss: 1.0017 - accuracy: 0.6559 - val_loss: 1.1915 - val_accuracy: 0.5833\n",
            "Epoch 98/100\n",
            "1563/1563 [==============================] - 5s 3ms/step - loss: 0.9979 - accuracy: 0.6570 - val_loss: 1.1820 - val_accuracy: 0.5879\n",
            "Epoch 99/100\n",
            "1563/1563 [==============================] - 5s 4ms/step - loss: 0.9956 - accuracy: 0.6583 - val_loss: 1.1925 - val_accuracy: 0.5831\n",
            "Epoch 100/100\n",
            "1563/1563 [==============================] - 6s 4ms/step - loss: 0.9923 - accuracy: 0.6591 - val_loss: 1.1883 - val_accuracy: 0.5824\n"
          ],
          "name": "stdout"
        }
      ]
    },
    {
      "cell_type": "code",
      "metadata": {
        "id": "Bw8G9mUmiufm",
        "colab": {
          "base_uri": "https://localhost:8080/"
        },
        "outputId": "0c22e487-efd5-4401-a551-643383c5a2f6"
      },
      "source": [
        "# evaluate the network\n",
        "print(\"[INFO] evaluating network...\")\n",
        "predictions = model.predict(testX, batch_size=32)\n",
        "print(classification_report(testY.argmax(axis=1),\n",
        "\tpredictions.argmax(axis=1), target_names=labelNames))"
      ],
      "execution_count": 16,
      "outputs": [
        {
          "output_type": "stream",
          "text": [
            "[INFO] evaluating network...\n",
            "              precision    recall  f1-score   support\n",
            "\n",
            "    airplane       0.56      0.71      0.63      1000\n",
            "  automobile       0.70      0.72      0.71      1000\n",
            "        bird       0.42      0.51      0.46      1000\n",
            "         cat       0.42      0.39      0.40      1000\n",
            "        deer       0.52      0.47      0.49      1000\n",
            "         dog       0.53      0.45      0.49      1000\n",
            "        frog       0.62      0.64      0.63      1000\n",
            "       horse       0.68      0.65      0.67      1000\n",
            "        ship       0.73      0.66      0.69      1000\n",
            "       truck       0.67      0.61      0.64      1000\n",
            "\n",
            "    accuracy                           0.58     10000\n",
            "   macro avg       0.59      0.58      0.58     10000\n",
            "weighted avg       0.59      0.58      0.58     10000\n",
            "\n"
          ],
          "name": "stdout"
        }
      ]
    },
    {
      "cell_type": "code",
      "metadata": {
        "id": "FdAeWWXoiw3D",
        "colab": {
          "base_uri": "https://localhost:8080/",
          "height": 299
        },
        "outputId": "0340bcf5-ae9b-4f8d-a3ee-3e9b984d0d26"
      },
      "source": [
        "# plot the training loss and accuracy\n",
        "plt.style.use(\"ggplot\")\n",
        "plt.figure()\n",
        "plt.plot(np.arange(0, 100), H.history[\"loss\"], label=\"train_loss\")\n",
        "plt.plot(np.arange(0, 100), H.history[\"val_loss\"], label=\"val_loss\")\n",
        "plt.plot(np.arange(0, 100), H.history[\"accuracy\"], label=\"train_acc\")\n",
        "plt.plot(np.arange(0, 100), H.history[\"val_accuracy\"], label=\"val_acc\")\n",
        "plt.title(\"Training Loss and Accuracy\")\n",
        "plt.xlabel(\"Epoch #\")\n",
        "plt.ylabel(\"Loss/Accuracy\")\n",
        "plt.legend()\n",
        "plt.show()"
      ],
      "execution_count": 18,
      "outputs": [
        {
          "output_type": "display_data",
          "data": {
            "image/png": "[encoded data removed]",
            "text/plain": [
              "<Figure size 432x288 with 1 Axes>"
            ]
          },
          "metadata": {
            "tags": []
          }
        }
      ]
    },
    {
      "cell_type": "markdown",
      "metadata": {
        "id": "iIK0y_52aETm"
      },
      "source": [
        "For a detailed walkthrough of the concepts and code, be sure to refer to the full tutorial, [*A gentle guide to training your first CNN with Keras and TensorFlow*](https://www.pyimagesearch.com/2021/05/22/a-gentle-guide-to-training-your-first-cnn-with-keras-and-tensorflow/) published on 2021-05-22."
      ]
    }
  ]
}